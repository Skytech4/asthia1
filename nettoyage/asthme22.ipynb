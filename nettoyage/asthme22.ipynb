{
 "cells": [
  {
   "cell_type": "markdown",
   "id": "a15ef088",
   "metadata": {},
   "source": [
    "# Preprocessing"
   ]
  },
  {
   "cell_type": "code",
   "execution_count": 58,
   "id": "8a961c59",
   "metadata": {},
   "outputs": [],
   "source": [
    "import pandas as pd\n",
    "import seaborn as sns\n",
    "import matplotlib.pyplot as plt\n",
    "import numpy as np"
   ]
  },
  {
   "cell_type": "code",
   "execution_count": 59,
   "id": "bff82994",
   "metadata": {},
   "outputs": [
    {
     "data": {
      "application/vnd.microsoft.datawrangler.viewer.v0+json": {
       "columns": [
        {
         "name": "index",
         "rawType": "int64",
         "type": "integer"
        },
        {
         "name": "Group",
         "rawType": "object",
         "type": "string"
        },
        {
         "name": "Subject ID",
         "rawType": "int64",
         "type": "integer"
        },
        {
         "name": "Observation_number",
         "rawType": "int64",
         "type": "integer"
        },
        {
         "name": "Hydroxyurea",
         "rawType": "object",
         "type": "string"
        },
        {
         "name": "Asthma",
         "rawType": "object",
         "type": "string"
        },
        {
         "name": "ICS",
         "rawType": "object",
         "type": "string"
        },
        {
         "name": "LABA",
         "rawType": "object",
         "type": "string"
        },
        {
         "name": "Gender",
         "rawType": "object",
         "type": "string"
        },
        {
         "name": "Age (months)",
         "rawType": "int64",
         "type": "integer"
        },
        {
         "name": "Height (cm)",
         "rawType": "float64",
         "type": "float"
        },
        {
         "name": "Weight (Kg)",
         "rawType": "float64",
         "type": "float"
        },
        {
         "name": "BMI",
         "rawType": "float64",
         "type": "float"
        },
        {
         "name": "R5Hz_PP",
         "rawType": "int64",
         "type": "integer"
        },
        {
         "name": "R20Hz_PP",
         "rawType": "int64",
         "type": "integer"
        },
        {
         "name": "X5Hz_PP",
         "rawType": "float64",
         "type": "float"
        },
        {
         "name": "Fres_PP",
         "rawType": "float64",
         "type": "float"
        }
       ],
       "ref": "ffb3bec5-b94a-4296-9168-70a0eb245f10",
       "rows": [
        [
         "0",
         "C-SCD",
         "1",
         "1",
         "Yes",
         "Yes",
         "Yes",
         "No",
         "Male",
         "239",
         "164.1",
         "61.5",
         "22.84",
         "145",
         "133",
         "-456.0",
         null
        ],
        [
         "1",
         "C-SCD",
         "1",
         "2",
         "Yes",
         "Yes",
         "Yes",
         "No",
         "Male",
         "193",
         "162.7",
         "62.3",
         "23.53",
         "103",
         "98",
         "111.0",
         "169.0"
        ],
        [
         "2",
         "C-SCD",
         "1",
         "3",
         "Yes",
         "Yes",
         "Yes",
         "Yes",
         "Male",
         "212",
         "163.5",
         "63.1",
         "23.6",
         "107",
         "98",
         "174.0",
         "159.0"
        ],
        [
         "3",
         "C-SCD",
         "1",
         "4",
         "Yes",
         "Yes",
         "Yes",
         "Yes",
         "Male",
         "224",
         "163.8",
         "63.7",
         "23.74",
         "87",
         "87",
         "-303.0",
         null
        ],
        [
         "4",
         "C-SCD",
         "2",
         "1",
         "No",
         "No",
         "No",
         "No",
         "Female",
         "204",
         "154.5",
         "66.4",
         "27.82",
         "124",
         "121",
         "98.0",
         "135.0"
        ]
       ],
       "shape": {
        "columns": 16,
        "rows": 5
       }
      },
      "text/html": [
       "<div>\n",
       "<style scoped>\n",
       "    .dataframe tbody tr th:only-of-type {\n",
       "        vertical-align: middle;\n",
       "    }\n",
       "\n",
       "    .dataframe tbody tr th {\n",
       "        vertical-align: top;\n",
       "    }\n",
       "\n",
       "    .dataframe thead th {\n",
       "        text-align: right;\n",
       "    }\n",
       "</style>\n",
       "<table border=\"1\" class=\"dataframe\">\n",
       "  <thead>\n",
       "    <tr style=\"text-align: right;\">\n",
       "      <th></th>\n",
       "      <th>Group</th>\n",
       "      <th>Subject ID</th>\n",
       "      <th>Observation_number</th>\n",
       "      <th>Hydroxyurea</th>\n",
       "      <th>Asthma</th>\n",
       "      <th>ICS</th>\n",
       "      <th>LABA</th>\n",
       "      <th>Gender</th>\n",
       "      <th>Age (months)</th>\n",
       "      <th>Height (cm)</th>\n",
       "      <th>Weight (Kg)</th>\n",
       "      <th>BMI</th>\n",
       "      <th>R5Hz_PP</th>\n",
       "      <th>R20Hz_PP</th>\n",
       "      <th>X5Hz_PP</th>\n",
       "      <th>Fres_PP</th>\n",
       "    </tr>\n",
       "  </thead>\n",
       "  <tbody>\n",
       "    <tr>\n",
       "      <th>0</th>\n",
       "      <td>C-SCD</td>\n",
       "      <td>1</td>\n",
       "      <td>1</td>\n",
       "      <td>Yes</td>\n",
       "      <td>Yes</td>\n",
       "      <td>Yes</td>\n",
       "      <td>No</td>\n",
       "      <td>Male</td>\n",
       "      <td>239</td>\n",
       "      <td>164.1</td>\n",
       "      <td>61.5</td>\n",
       "      <td>22.84</td>\n",
       "      <td>145</td>\n",
       "      <td>133</td>\n",
       "      <td>-456.0</td>\n",
       "      <td>NaN</td>\n",
       "    </tr>\n",
       "    <tr>\n",
       "      <th>1</th>\n",
       "      <td>C-SCD</td>\n",
       "      <td>1</td>\n",
       "      <td>2</td>\n",
       "      <td>Yes</td>\n",
       "      <td>Yes</td>\n",
       "      <td>Yes</td>\n",
       "      <td>No</td>\n",
       "      <td>Male</td>\n",
       "      <td>193</td>\n",
       "      <td>162.7</td>\n",
       "      <td>62.3</td>\n",
       "      <td>23.53</td>\n",
       "      <td>103</td>\n",
       "      <td>98</td>\n",
       "      <td>111.0</td>\n",
       "      <td>169.0</td>\n",
       "    </tr>\n",
       "    <tr>\n",
       "      <th>2</th>\n",
       "      <td>C-SCD</td>\n",
       "      <td>1</td>\n",
       "      <td>3</td>\n",
       "      <td>Yes</td>\n",
       "      <td>Yes</td>\n",
       "      <td>Yes</td>\n",
       "      <td>Yes</td>\n",
       "      <td>Male</td>\n",
       "      <td>212</td>\n",
       "      <td>163.5</td>\n",
       "      <td>63.1</td>\n",
       "      <td>23.60</td>\n",
       "      <td>107</td>\n",
       "      <td>98</td>\n",
       "      <td>174.0</td>\n",
       "      <td>159.0</td>\n",
       "    </tr>\n",
       "    <tr>\n",
       "      <th>3</th>\n",
       "      <td>C-SCD</td>\n",
       "      <td>1</td>\n",
       "      <td>4</td>\n",
       "      <td>Yes</td>\n",
       "      <td>Yes</td>\n",
       "      <td>Yes</td>\n",
       "      <td>Yes</td>\n",
       "      <td>Male</td>\n",
       "      <td>224</td>\n",
       "      <td>163.8</td>\n",
       "      <td>63.7</td>\n",
       "      <td>23.74</td>\n",
       "      <td>87</td>\n",
       "      <td>87</td>\n",
       "      <td>-303.0</td>\n",
       "      <td>NaN</td>\n",
       "    </tr>\n",
       "    <tr>\n",
       "      <th>4</th>\n",
       "      <td>C-SCD</td>\n",
       "      <td>2</td>\n",
       "      <td>1</td>\n",
       "      <td>No</td>\n",
       "      <td>No</td>\n",
       "      <td>No</td>\n",
       "      <td>No</td>\n",
       "      <td>Female</td>\n",
       "      <td>204</td>\n",
       "      <td>154.5</td>\n",
       "      <td>66.4</td>\n",
       "      <td>27.82</td>\n",
       "      <td>124</td>\n",
       "      <td>121</td>\n",
       "      <td>98.0</td>\n",
       "      <td>135.0</td>\n",
       "    </tr>\n",
       "  </tbody>\n",
       "</table>\n",
       "</div>"
      ],
      "text/plain": [
       "   Group  Subject ID  Observation_number Hydroxyurea Asthma  ICS LABA  Gender  \\\n",
       "0  C-SCD           1                   1         Yes    Yes  Yes   No    Male   \n",
       "1  C-SCD           1                   2         Yes    Yes  Yes   No    Male   \n",
       "2  C-SCD           1                   3         Yes    Yes  Yes  Yes    Male   \n",
       "3  C-SCD           1                   4         Yes    Yes  Yes  Yes    Male   \n",
       "4  C-SCD           2                   1          No     No   No   No  Female   \n",
       "\n",
       "   Age (months)  Height (cm)  Weight (Kg)    BMI  R5Hz_PP  R20Hz_PP  X5Hz_PP  \\\n",
       "0           239        164.1         61.5  22.84      145       133   -456.0   \n",
       "1           193        162.7         62.3  23.53      103        98    111.0   \n",
       "2           212        163.5         63.1  23.60      107        98    174.0   \n",
       "3           224        163.8         63.7  23.74       87        87   -303.0   \n",
       "4           204        154.5         66.4  27.82      124       121     98.0   \n",
       "\n",
       "   Fres_PP  \n",
       "0      NaN  \n",
       "1    169.0  \n",
       "2    159.0  \n",
       "3      NaN  \n",
       "4    135.0  "
      ]
     },
     "execution_count": 59,
     "metadata": {},
     "output_type": "execute_result"
    }
   ],
   "source": [
    "data = pd.read_csv(\"BMI_IOS_SCD_Asthma.csv\")\n",
    "data.head()"
   ]
  },
  {
   "cell_type": "code",
   "execution_count": 60,
   "id": "c730379b",
   "metadata": {},
   "outputs": [
    {
     "data": {
      "text/plain": [
       "Index(['Group', 'Subject ID', 'Observation_number', 'Hydroxyurea', 'Asthma',\n",
       "       'ICS', 'LABA', 'Gender', 'Age (months)', 'Height (cm)', 'Weight (Kg)',\n",
       "       'BMI', 'R5Hz_PP', 'R20Hz_PP', 'X5Hz_PP', 'Fres_PP'],\n",
       "      dtype='object')"
      ]
     },
     "execution_count": 60,
     "metadata": {},
     "output_type": "execute_result"
    }
   ],
   "source": [
    "data.columns"
   ]
  },
  {
   "cell_type": "code",
   "execution_count": 61,
   "id": "d4e7cd68",
   "metadata": {},
   "outputs": [],
   "source": [
    "# Suppression des colonnes inutules\n",
    "data.drop(columns=['Group', 'Subject ID', 'Observation_number'], inplace=True)"
   ]
  },
  {
   "cell_type": "code",
   "execution_count": 62,
   "id": "e36ea2ec",
   "metadata": {},
   "outputs": [],
   "source": [
    "# Remplacements des valeurs manquantes de la colonne Fres_PP par la moyenne\n",
    "if 'Fres_PP' in data.columns and data['Fres_PP'].isnull().any():\n",
    "    mean_fres_pp = data['Fres_PP'].mean()\n",
    "    data['Fres_PP'] = data['Fres_PP'].fillna(round(mean_fres_pp, 1))"
   ]
  },
  {
   "cell_type": "code",
   "execution_count": 63,
   "id": "c5c155ec",
   "metadata": {},
   "outputs": [
    {
     "data": {
      "application/vnd.microsoft.datawrangler.viewer.v0+json": {
       "columns": [
        {
         "name": "index",
         "rawType": "bool",
         "type": "boolean"
        },
        {
         "name": "count",
         "rawType": "int64",
         "type": "integer"
        }
       ],
       "ref": "2c74856d-891d-40c3-a9ee-81b302327ae9",
       "rows": [
        [
         "False",
         "219"
        ]
       ],
       "shape": {
        "columns": 1,
        "rows": 1
       }
      },
      "text/plain": [
       "False    219\n",
       "Name: count, dtype: int64"
      ]
     },
     "execution_count": 63,
     "metadata": {},
     "output_type": "execute_result"
    }
   ],
   "source": [
    "# Check des doublons de valeurs\n",
    "data.duplicated().value_counts()"
   ]
  },
  {
   "cell_type": "code",
   "execution_count": 64,
   "id": "cd0b67a3",
   "metadata": {},
   "outputs": [],
   "source": [
    "data.drop_duplicates(inplace=True)"
   ]
  },
  {
   "cell_type": "code",
   "execution_count": 65,
   "id": "ab7112c6",
   "metadata": {},
   "outputs": [
    {
     "data": {
      "application/vnd.microsoft.datawrangler.viewer.v0+json": {
       "columns": [
        {
         "name": "index",
         "rawType": "object",
         "type": "string"
        },
        {
         "name": "0",
         "rawType": "object",
         "type": "unknown"
        }
       ],
       "ref": "7ea06666-5230-4b3a-9ff1-7a25b11d3ce4",
       "rows": [
        [
         "Hydroxyurea",
         "object"
        ],
        [
         "Asthma",
         "object"
        ],
        [
         "ICS",
         "object"
        ],
        [
         "LABA",
         "object"
        ],
        [
         "Gender",
         "object"
        ],
        [
         "Age (months)",
         "int64"
        ],
        [
         "Height (cm)",
         "float64"
        ],
        [
         "Weight (Kg)",
         "float64"
        ],
        [
         "BMI",
         "float64"
        ],
        [
         "R5Hz_PP",
         "int64"
        ],
        [
         "R20Hz_PP",
         "int64"
        ],
        [
         "X5Hz_PP",
         "float64"
        ],
        [
         "Fres_PP",
         "float64"
        ]
       ],
       "shape": {
        "columns": 1,
        "rows": 13
       }
      },
      "text/plain": [
       "Hydroxyurea      object\n",
       "Asthma           object\n",
       "ICS              object\n",
       "LABA             object\n",
       "Gender           object\n",
       "Age (months)      int64\n",
       "Height (cm)     float64\n",
       "Weight (Kg)     float64\n",
       "BMI             float64\n",
       "R5Hz_PP           int64\n",
       "R20Hz_PP          int64\n",
       "X5Hz_PP         float64\n",
       "Fres_PP         float64\n",
       "dtype: object"
      ]
     },
     "execution_count": 65,
     "metadata": {},
     "output_type": "execute_result"
    }
   ],
   "source": [
    "data.dtypes"
   ]
  },
  {
   "cell_type": "code",
   "execution_count": 66,
   "id": "0d24cffe",
   "metadata": {},
   "outputs": [
    {
     "data": {
      "application/vnd.microsoft.datawrangler.viewer.v0+json": {
       "columns": [
        {
         "name": "index",
         "rawType": "object",
         "type": "string"
        },
        {
         "name": "0",
         "rawType": "int64",
         "type": "integer"
        }
       ],
       "ref": "f3badfbe-442a-41c9-9e43-a4b2587df65f",
       "rows": [
        [
         "Hydroxyurea",
         "0"
        ],
        [
         "Asthma",
         "0"
        ],
        [
         "ICS",
         "0"
        ],
        [
         "LABA",
         "0"
        ],
        [
         "Gender",
         "0"
        ],
        [
         "Age (months)",
         "0"
        ],
        [
         "Height (cm)",
         "0"
        ],
        [
         "Weight (Kg)",
         "0"
        ],
        [
         "BMI",
         "0"
        ],
        [
         "R5Hz_PP",
         "0"
        ],
        [
         "R20Hz_PP",
         "0"
        ],
        [
         "X5Hz_PP",
         "0"
        ],
        [
         "Fres_PP",
         "0"
        ]
       ],
       "shape": {
        "columns": 1,
        "rows": 13
       }
      },
      "text/plain": [
       "Hydroxyurea     0\n",
       "Asthma          0\n",
       "ICS             0\n",
       "LABA            0\n",
       "Gender          0\n",
       "Age (months)    0\n",
       "Height (cm)     0\n",
       "Weight (Kg)     0\n",
       "BMI             0\n",
       "R5Hz_PP         0\n",
       "R20Hz_PP        0\n",
       "X5Hz_PP         0\n",
       "Fres_PP         0\n",
       "dtype: int64"
      ]
     },
     "execution_count": 66,
     "metadata": {},
     "output_type": "execute_result"
    }
   ],
   "source": [
    "data.isna().sum()"
   ]
  },
  {
   "cell_type": "code",
   "execution_count": 67,
   "id": "54b70eab",
   "metadata": {},
   "outputs": [
    {
     "data": {
      "text/plain": [
       "array(['Male', 'Female', 'male'], dtype=object)"
      ]
     },
     "execution_count": 67,
     "metadata": {},
     "output_type": "execute_result"
    }
   ],
   "source": [
    "data.Gender.unique()"
   ]
  },
  {
   "cell_type": "code",
   "execution_count": 68,
   "id": "d1d68d82",
   "metadata": {},
   "outputs": [],
   "source": [
    "# Remplacement des valeurs \"male\" par \"Male\" dans la colonne \"Gender\"\n",
    "data['Gender'] = data['Gender'].replace('male', 'Male')"
   ]
  },
  {
   "cell_type": "code",
   "execution_count": 69,
   "id": "2f44e14d",
   "metadata": {},
   "outputs": [
    {
     "data": {
      "text/plain": [
       "array(['Male', 'Female'], dtype=object)"
      ]
     },
     "execution_count": 69,
     "metadata": {},
     "output_type": "execute_result"
    }
   ],
   "source": [
    "data.Gender.unique()"
   ]
  },
  {
   "cell_type": "code",
   "execution_count": 70,
   "id": "dade3233",
   "metadata": {},
   "outputs": [],
   "source": [
    "# Conversion des colonnes catégorielles en numériques\n",
    "data['Hydroxyurea'] = data['Hydroxyurea'].map({'Yes': 1, 'No': 0})\n",
    "data['ICS'] = data['ICS'].map({'Yes': 1, 'No': 0})\n",
    "data['LABA'] = data['LABA'].map({'Yes': 1, 'No': 0})"
   ]
  },
  {
   "cell_type": "code",
   "execution_count": 71,
   "id": "50f37092",
   "metadata": {},
   "outputs": [],
   "source": [
    "data.rename(columns={'Age (months)': 'Age'}, inplace=True)\n",
    "data.rename(columns={'Height (cm)': 'Height'}, inplace=True)\n",
    "data.rename(columns={'Weight (Kg)': 'Weight'}, inplace=True)"
   ]
  },
  {
   "cell_type": "code",
   "execution_count": 72,
   "id": "d8b30f60",
   "metadata": {},
   "outputs": [],
   "source": [
    "# Conversion des valeurs de la colonne \"Age\" de mois en années\n",
    "if 'Age' in data.columns:\n",
    "    data['Age'] = data['Age'] / 12"
   ]
  },
  {
   "cell_type": "code",
   "execution_count": 73,
   "id": "9611af41",
   "metadata": {},
   "outputs": [
    {
     "data": {
      "application/vnd.microsoft.datawrangler.viewer.v0+json": {
       "columns": [
        {
         "name": "('Hydroxyurea', 'Asthma', 'ICS', 'LABA', 'Gender', 'Age', 'Height', 'Weight', 'BMI', 'R5Hz_PP', 'R20Hz_PP', 'X5Hz_PP', 'Fres_PP')",
         "rawType": "object",
         "type": "unknown"
        },
        {
         "name": "count",
         "rawType": "int64",
         "type": "integer"
        }
       ],
       "ref": "2254d5a0-7597-43fd-8711-7603e2cb45ee",
       "rows": [
        [
         "(0, 'No', 0, 0, 'Female', 7.083333333333333, 125.8, 23.8, 15.04, 105, 73, 101.0, 118.0)",
         "1"
        ],
        [
         "(1, 'Yes', 0, 0, 'Male', 9.25, 134.7, 28.8, 15.87, 100, 72, 94.0, 121.0)",
         "1"
        ],
        [
         "(1, 'Yes', 0, 0, 'Female', 11.083333333333334, 144.8, 35.2, 16.79, 69, 68, 81.0, 117.0)",
         "1"
        ],
        [
         "(1, 'Yes', 0, 0, 'Female', 12.583333333333334, 155.8, 43.2, 17.8, 89, 98, 94.0, 106.0)",
         "1"
        ],
        [
         "(1, 'Yes', 0, 0, 'Female', 13.583333333333334, 158.2, 48.6, 19.42, 85, 79, 80.0, 127.0)",
         "1"
        ],
        [
         "(1, 'Yes', 0, 0, 'Female', 14.5, 161.0, 49.3, 19.02, 121, 113, 200.0, 175.0)",
         "1"
        ],
        [
         "(1, 'Yes', 0, 0, 'Female', 14.583333333333334, 159.6, 52.8, 20.73, 95, 95, 101.0, 104.0)",
         "1"
        ],
        [
         "(1, 'Yes', 0, 0, 'Female', 16.75, 162.0, 52.0, 19.81, 142, 110, 212.0, 169.0)",
         "1"
        ],
        [
         "(1, 'Yes', 0, 0, 'Female', 17.0, 157.5, 104.4, 42.09, 104, 105, 34.0, 92.0)",
         "1"
        ],
        [
         "(1, 'Yes', 0, 0, 'Male', 5.25, 107.5, 17.5, 15.14, 123, 85, 13.0, 97.0)",
         "1"
        ],
        [
         "(1, 'Yes', 0, 0, 'Male', 5.416666666666667, 117.0, 19.6, 14.3, 70, 63, 64.0, 103.0)",
         "1"
        ],
        [
         "(1, 'Yes', 0, 0, 'Male', 5.75, 111.5, 17.1, 13.7, 75, 86, 3.0, 98.0)",
         "1"
        ],
        [
         "(1, 'Yes', 0, 0, 'Male', 7.166666666666667, 125.0, 28.9, 18.5, 83, 49, 82.0, 97.0)",
         "1"
        ],
        [
         "(1, 'Yes', 0, 0, 'Male', 12.75, 151.7, 32.4, 14.08, 102, 94, 144.0, 141.0)",
         "1"
        ],
        [
         "(1, 'Yes', 1, 0, 'Female', 14.666666666666666, 158.4, 56.1, 22.36, 134, 112, 157.0, 219.0)",
         "1"
        ],
        [
         "(1, 'Yes', 0, 0, 'Male', 14.083333333333334, 160.7, 36.1, 13.98, 108, 82, 193.0, 159.0)",
         "1"
        ],
        [
         "(1, 'Yes', 0, 0, 'Male', 14.833333333333334, 158.0, 51.9, 20.79, 109, 86, 115.0, 148.0)",
         "1"
        ],
        [
         "(1, 'Yes', 0, 0, 'Male', 15.083333333333334, 169.9, 43.2, 14.97, 143, 83, 297.0, 162.0)",
         "1"
        ],
        [
         "(1, 'Yes', 0, 0, 'Male', 16.916666666666668, 178.6, 47.9, 15.02, 196, 121, 465.0, 225.0)",
         "1"
        ],
        [
         "(1, 'Yes', 1, 0, 'Female', 6.833333333333333, 109.4, 20.1, 16.79, 88, 73, 91.0, 101.0)",
         "1"
        ],
        [
         "(1, 'Yes', 1, 0, 'Female', 8.75, 131.0, 25.5, 14.86, 110, 108, 128.0, 127.0)",
         "1"
        ],
        [
         "(1, 'Yes', 1, 0, 'Female', 10.083333333333334, 137.7, 30.3, 15.98, 112, 90, 87.0, 140.0)",
         "1"
        ],
        [
         "(1, 'Yes', 1, 0, 'Female', 10.666666666666666, 137.0, 30.8, 16.41, 125, 99, 131.0, 168.0)",
         "1"
        ],
        [
         "(1, 'Yes', 1, 0, 'Female', 11.166666666666666, 139.4, 33.8, 17.39, 125, 99, 131.0, 168.0)",
         "1"
        ],
        [
         "(1, 'Yes', 1, 0, 'Female', 11.25, 140.2, 31.6, 16.08, 108, 95, 126.0, 159.0)",
         "1"
        ],
        [
         "(1, 'Yes', 1, 0, 'Female', 12.25, 145.4, 38.4, 18.16, 152, 12, 190.0, 182.0)",
         "1"
        ],
        [
         "(1, 'Yes', 0, 0, 'Female', 10.833333333333334, 142.2, 32.4, 16.02, 74, 71, 89.0, 121.0)",
         "1"
        ],
        [
         "(1, 'Yes', 0, 0, 'Female', 10.583333333333334, 127.0, 30.3, 18.79, 106, 96, 157.0, 133.0)",
         "1"
        ],
        [
         "(1, 'Yes', 0, 0, 'Female', 9.583333333333334, 122.3, 26.6, 17.78, 84, 69, 51.0, 118.0)",
         "1"
        ],
        [
         "(1, 'Yes', 0, 0, 'Female', 7.75, 126.0, 22.2, 13.98, 104, 90, 135.0, 115.0)",
         "1"
        ],
        [
         "(1, 'No', 0, 0, 'Male', 7.833333333333333, 130.2, 25.2, 14.87, 81, 47, 133.0, 107.0)",
         "1"
        ],
        [
         "(1, 'No', 0, 0, 'Male', 8.75, 132.2, 31.3, 17.91, 77, 75, 42.0, 106.0)",
         "1"
        ],
        [
         "(1, 'No', 0, 0, 'Male', 8.833333333333334, 135.0, 27.1, 14.87, 70, 48, 110.0, 102.0)",
         "1"
        ],
        [
         "(1, 'No', 0, 0, 'Male', 9.166666666666666, 136.0, 33.3, 18.0, 103, 71, 56.0, 117.0)",
         "1"
        ],
        [
         "(1, 'No', 0, 0, 'Male', 9.666666666666666, 140.3, 36.7, 18.64, 76, 58, 76.0, 99.0)",
         "1"
        ],
        [
         "(1, 'No', 0, 0, 'Male', 9.916666666666666, 139.6, 30.6, 15.7, 88, 90, 116.0, 138.0)",
         "1"
        ],
        [
         "(1, 'No', 0, 0, 'Male', 10.666666666666666, 144.5, 36.4, 17.43, 111, 80, 147.0, 111.0)",
         "1"
        ],
        [
         "(1, 'No', 0, 0, 'Male', 11.416666666666666, 140.6, 30.7, 15.53, 81, 78, 123.0, 128.0)",
         "1"
        ],
        [
         "(1, 'No', 0, 0, 'Male', 11.5, 143.1, 33.5, 16.36, 67, 71, 81.0, 117.0)",
         "1"
        ],
        [
         "(1, 'No', 0, 0, 'Male', 11.75, 148.7, 34.6, 15.65, 122, 108, 151.0, 169.0)",
         "1"
        ],
        [
         "(1, 'No', 0, 0, 'Male', 12.166666666666666, 144.8, 33.6, 16.03, 86, 58, 105.0, 114.0)",
         "1"
        ],
        [
         "(1, 'No', 0, 0, 'Male', 12.333333333333334, 155.6, 45.8, 18.92, 136, 96, 104.0, 131.0)",
         "1"
        ],
        [
         "(1, 'No', 0, 0, 'Male', 13.416666666666666, 147.5, 38.1, 17.51, 89, 89, 95.0, 132.0)",
         "1"
        ],
        [
         "(1, 'No', 0, 0, 'Male', 13.416666666666666, 150.7, 39.8, 17.52, 78, 86, 101.0, 119.0)",
         "1"
        ],
        [
         "(1, 'No', 0, 0, 'Male', 13.666666666666666, 162.7, 43.7, 16.7, 119, 112, 113.0, 114.0)",
         "1"
        ],
        [
         "(1, 'No', 0, 0, 'Male', 14.166666666666666, 154.6, 40.2, 16.82, 95, 65, 116.0, 150.0)",
         "1"
        ],
        [
         "(1, 'No', 0, 0, 'Male', 14.416666666666666, 152.6, 42.7, 18.34, 86, 87, 84.0, 117.0)",
         "1"
        ],
        [
         "(1, 'No', 0, 0, 'Male', 14.583333333333334, 156.0, 46.4, 19.07, 92, 102, 139.0, 109.0)",
         "1"
        ],
        [
         "(1, 'No', 0, 0, 'Male', 14.666666666666666, 160.3, 43.3, 16.85, 85, 90, 113.0, 129.0)",
         "1"
        ],
        [
         "(1, 'No', 0, 0, 'Male', 15.416666666666666, 160.7, 47.0, 18.2, 113, 72, 111.0, 142.0)",
         "1"
        ]
       ],
       "shape": {
        "columns": 1,
        "rows": 219
       }
      },
      "text/plain": [
       "Hydroxyurea  Asthma  ICS  LABA  Gender  Age        Height  Weight  BMI    R5Hz_PP  R20Hz_PP  X5Hz_PP  Fres_PP\n",
       "0            No      0    0     Female  7.083333   125.8   23.8    15.04  105      73         101.0   118.0      1\n",
       "1            Yes     0    0     Male    9.250000   134.7   28.8    15.87  100      72         94.0    121.0      1\n",
       "                                Female  11.083333  144.8   35.2    16.79  69       68         81.0    117.0      1\n",
       "                                        12.583333  155.8   43.2    17.80  89       98         94.0    106.0      1\n",
       "                                        13.583333  158.2   48.6    19.42  85       79         80.0    127.0      1\n",
       "                                                                                                                ..\n",
       "0            Yes     1    1     Female  13.583333  166.0   50.4    18.29  91       88         148.0   144.0      1\n",
       "                                        14.333333  176.0   65.2    21.05  82       62         139.0   165.0      1\n",
       "                                        15.666667  177.0   66.1    21.10  61       47         83.0    158.0      1\n",
       "                                        16.000000  163.0   111.2   41.85  116      106        69.0    103.0      1\n",
       "1            Yes     1    1     Male    18.666667  163.8   63.7    23.74  87       87        -303.0   132.3      1\n",
       "Name: count, Length: 219, dtype: int64"
      ]
     },
     "execution_count": 73,
     "metadata": {},
     "output_type": "execute_result"
    }
   ],
   "source": [
    "data.value_counts()"
   ]
  },
  {
   "cell_type": "code",
   "execution_count": 74,
   "id": "d44ed8cc",
   "metadata": {},
   "outputs": [],
   "source": [
    "R5_pred = 0.35\n",
    "R20_pred = 0.30\n",
    "X5_pred = -0.15\n",
    "Fres_pred = 10.0\n",
    "\n",
    "# Conversion\n",
    "data[\"R5Hz_PP\"] = (data[\"R5Hz_PP\"] / 100) * R5_pred\n",
    "data[\"R20Hz_PP\"] = (data[\"R20Hz_PP\"] / 100) * R20_pred\n",
    "data[\"X5Hz_PP\"] = (data[\"X5Hz_PP\"] / 100) * X5_pred\n",
    "data[\"Fres_PP\"] = (data[\"Fres_PP\"] / 100) * Fres_pred"
   ]
  },
  {
   "cell_type": "code",
   "execution_count": 75,
   "id": "5cfd24bc",
   "metadata": {},
   "outputs": [
    {
     "data": {
      "application/vnd.microsoft.datawrangler.viewer.v0+json": {
       "columns": [
        {
         "name": "index",
         "rawType": "int64",
         "type": "integer"
        },
        {
         "name": "Hydroxyurea",
         "rawType": "int64",
         "type": "integer"
        },
        {
         "name": "Asthma",
         "rawType": "object",
         "type": "string"
        },
        {
         "name": "ICS",
         "rawType": "int64",
         "type": "integer"
        },
        {
         "name": "LABA",
         "rawType": "int64",
         "type": "integer"
        },
        {
         "name": "Gender",
         "rawType": "object",
         "type": "string"
        },
        {
         "name": "Age",
         "rawType": "float64",
         "type": "float"
        },
        {
         "name": "Height",
         "rawType": "float64",
         "type": "float"
        },
        {
         "name": "Weight",
         "rawType": "float64",
         "type": "float"
        },
        {
         "name": "BMI",
         "rawType": "float64",
         "type": "float"
        },
        {
         "name": "R5Hz_PP",
         "rawType": "float64",
         "type": "float"
        },
        {
         "name": "R20Hz_PP",
         "rawType": "float64",
         "type": "float"
        },
        {
         "name": "X5Hz_PP",
         "rawType": "float64",
         "type": "float"
        },
        {
         "name": "Fres_PP",
         "rawType": "float64",
         "type": "float"
        }
       ],
       "ref": "b17193c3-a3d2-4ad1-8fd7-98f3cc34b8a7",
       "rows": [
        [
         "0",
         "1",
         "Yes",
         "1",
         "0",
         "Male",
         "19.916666666666668",
         "164.1",
         "61.5",
         "22.84",
         "0.5075",
         "0.399",
         "0.6839999999999999",
         "13.230000000000002"
        ],
        [
         "1",
         "1",
         "Yes",
         "1",
         "0",
         "Male",
         "16.083333333333332",
         "162.7",
         "62.3",
         "23.53",
         "0.3605",
         "0.294",
         "-0.1665",
         "16.9"
        ],
        [
         "2",
         "1",
         "Yes",
         "1",
         "1",
         "Male",
         "17.666666666666668",
         "163.5",
         "63.1",
         "23.6",
         "0.3745",
         "0.294",
         "-0.261",
         "15.9"
        ],
        [
         "3",
         "1",
         "Yes",
         "1",
         "1",
         "Male",
         "18.666666666666668",
         "163.8",
         "63.7",
         "23.74",
         "0.3045",
         "0.261",
         "0.45449999999999996",
         "13.230000000000002"
        ],
        [
         "4",
         "0",
         "No",
         "0",
         "0",
         "Female",
         "17.0",
         "154.5",
         "66.4",
         "27.82",
         "0.434",
         "0.363",
         "-0.147",
         "13.5"
        ]
       ],
       "shape": {
        "columns": 13,
        "rows": 5
       }
      },
      "text/html": [
       "<div>\n",
       "<style scoped>\n",
       "    .dataframe tbody tr th:only-of-type {\n",
       "        vertical-align: middle;\n",
       "    }\n",
       "\n",
       "    .dataframe tbody tr th {\n",
       "        vertical-align: top;\n",
       "    }\n",
       "\n",
       "    .dataframe thead th {\n",
       "        text-align: right;\n",
       "    }\n",
       "</style>\n",
       "<table border=\"1\" class=\"dataframe\">\n",
       "  <thead>\n",
       "    <tr style=\"text-align: right;\">\n",
       "      <th></th>\n",
       "      <th>Hydroxyurea</th>\n",
       "      <th>Asthma</th>\n",
       "      <th>ICS</th>\n",
       "      <th>LABA</th>\n",
       "      <th>Gender</th>\n",
       "      <th>Age</th>\n",
       "      <th>Height</th>\n",
       "      <th>Weight</th>\n",
       "      <th>BMI</th>\n",
       "      <th>R5Hz_PP</th>\n",
       "      <th>R20Hz_PP</th>\n",
       "      <th>X5Hz_PP</th>\n",
       "      <th>Fres_PP</th>\n",
       "    </tr>\n",
       "  </thead>\n",
       "  <tbody>\n",
       "    <tr>\n",
       "      <th>0</th>\n",
       "      <td>1</td>\n",
       "      <td>Yes</td>\n",
       "      <td>1</td>\n",
       "      <td>0</td>\n",
       "      <td>Male</td>\n",
       "      <td>19.916667</td>\n",
       "      <td>164.1</td>\n",
       "      <td>61.5</td>\n",
       "      <td>22.84</td>\n",
       "      <td>0.5075</td>\n",
       "      <td>0.399</td>\n",
       "      <td>0.6840</td>\n",
       "      <td>13.23</td>\n",
       "    </tr>\n",
       "    <tr>\n",
       "      <th>1</th>\n",
       "      <td>1</td>\n",
       "      <td>Yes</td>\n",
       "      <td>1</td>\n",
       "      <td>0</td>\n",
       "      <td>Male</td>\n",
       "      <td>16.083333</td>\n",
       "      <td>162.7</td>\n",
       "      <td>62.3</td>\n",
       "      <td>23.53</td>\n",
       "      <td>0.3605</td>\n",
       "      <td>0.294</td>\n",
       "      <td>-0.1665</td>\n",
       "      <td>16.90</td>\n",
       "    </tr>\n",
       "    <tr>\n",
       "      <th>2</th>\n",
       "      <td>1</td>\n",
       "      <td>Yes</td>\n",
       "      <td>1</td>\n",
       "      <td>1</td>\n",
       "      <td>Male</td>\n",
       "      <td>17.666667</td>\n",
       "      <td>163.5</td>\n",
       "      <td>63.1</td>\n",
       "      <td>23.60</td>\n",
       "      <td>0.3745</td>\n",
       "      <td>0.294</td>\n",
       "      <td>-0.2610</td>\n",
       "      <td>15.90</td>\n",
       "    </tr>\n",
       "    <tr>\n",
       "      <th>3</th>\n",
       "      <td>1</td>\n",
       "      <td>Yes</td>\n",
       "      <td>1</td>\n",
       "      <td>1</td>\n",
       "      <td>Male</td>\n",
       "      <td>18.666667</td>\n",
       "      <td>163.8</td>\n",
       "      <td>63.7</td>\n",
       "      <td>23.74</td>\n",
       "      <td>0.3045</td>\n",
       "      <td>0.261</td>\n",
       "      <td>0.4545</td>\n",
       "      <td>13.23</td>\n",
       "    </tr>\n",
       "    <tr>\n",
       "      <th>4</th>\n",
       "      <td>0</td>\n",
       "      <td>No</td>\n",
       "      <td>0</td>\n",
       "      <td>0</td>\n",
       "      <td>Female</td>\n",
       "      <td>17.000000</td>\n",
       "      <td>154.5</td>\n",
       "      <td>66.4</td>\n",
       "      <td>27.82</td>\n",
       "      <td>0.4340</td>\n",
       "      <td>0.363</td>\n",
       "      <td>-0.1470</td>\n",
       "      <td>13.50</td>\n",
       "    </tr>\n",
       "  </tbody>\n",
       "</table>\n",
       "</div>"
      ],
      "text/plain": [
       "   Hydroxyurea Asthma  ICS  LABA  Gender        Age  Height  Weight    BMI  \\\n",
       "0            1    Yes    1     0    Male  19.916667   164.1    61.5  22.84   \n",
       "1            1    Yes    1     0    Male  16.083333   162.7    62.3  23.53   \n",
       "2            1    Yes    1     1    Male  17.666667   163.5    63.1  23.60   \n",
       "3            1    Yes    1     1    Male  18.666667   163.8    63.7  23.74   \n",
       "4            0     No    0     0  Female  17.000000   154.5    66.4  27.82   \n",
       "\n",
       "   R5Hz_PP  R20Hz_PP  X5Hz_PP  Fres_PP  \n",
       "0   0.5075     0.399   0.6840    13.23  \n",
       "1   0.3605     0.294  -0.1665    16.90  \n",
       "2   0.3745     0.294  -0.2610    15.90  \n",
       "3   0.3045     0.261   0.4545    13.23  \n",
       "4   0.4340     0.363  -0.1470    13.50  "
      ]
     },
     "execution_count": 75,
     "metadata": {},
     "output_type": "execute_result"
    }
   ],
   "source": [
    "data.head()"
   ]
  },
  {
   "cell_type": "code",
   "execution_count": 76,
   "id": "07e4ba1b",
   "metadata": {},
   "outputs": [
    {
     "data": {
      "text/plain": [
       "<Axes: >"
      ]
     },
     "execution_count": 76,
     "metadata": {},
     "output_type": "execute_result"
    },
    {
     "data": {
      "image/png": "[encoded data removed]",
      "text/plain": [
       "<Figure size 1000x800 with 2 Axes>"
      ]
     },
     "metadata": {},
     "output_type": "display_data"
    }
   ],
   "source": [
    "plt.figure(figsize=(10,8))\n",
    "sns.heatmap(data.select_dtypes(include=[\"int64\", \"float64\"]).corr(), annot=True)"
   ]
  },
  {
   "cell_type": "code",
   "execution_count": 77,
   "id": "bce07494",
   "metadata": {},
   "outputs": [
    {
     "name": "stderr",
     "output_type": "stream",
     "text": [
      "C:\\Users\\SANTI\\AppData\\Local\\Temp\\ipykernel_4164\\3566764349.py:1: FutureWarning: \n",
      "\n",
      "Passing `palette` without assigning `hue` is deprecated and will be removed in v0.14.0. Assign the `x` variable to `hue` and set `legend=False` for the same effect.\n",
      "\n",
      "  sns.barplot(x='Gender', y='BMI', data=data, palette='muted')\n"
     ]
    },
    {
     "data": {
      "text/plain": [
       "<Axes: xlabel='Gender', ylabel='BMI'>"
      ]
     },
     "execution_count": 77,
     "metadata": {},
     "output_type": "execute_result"
    },
    {
     "data": {
      "image/png": "[encoded data removed]",
      "text/plain": [
       "<Figure size 640x480 with 1 Axes>"
      ]
     },
     "metadata": {},
     "output_type": "display_data"
    }
   ],
   "source": [
    "sns.barplot(x='Gender', y='BMI', data=data, palette='muted')"
   ]
  },
  {
   "cell_type": "code",
   "execution_count": 78,
   "id": "07225564",
   "metadata": {},
   "outputs": [
    {
     "data": {
      "text/plain": [
       "<Axes: xlabel='Weight'>"
      ]
     },
     "execution_count": 78,
     "metadata": {},
     "output_type": "execute_result"
    },
    {
     "data": {
      "image/png": "[encoded data removed]",
      "text/plain": [
       "<Figure size 640x480 with 1 Axes>"
      ]
     },
     "metadata": {},
     "output_type": "display_data"
    }
   ],
   "source": [
    "sns.boxplot(x='Weight', data=data)"
   ]
  },
  {
   "cell_type": "code",
   "execution_count": 79,
   "id": "c59e5649",
   "metadata": {},
   "outputs": [],
   "source": [
    "#Traitement des outliers\n",
    "# Fonction pour détecter et remplacer les valeurs aberrantes avec les Bounds\n",
    "def replace_outliers(df):\n",
    "    for col in df.select_dtypes(include=['number']).columns:  # Only process numeric columns \n",
    "        Q1 = df[col].quantile(0.25)\n",
    "        Q3 = df[col].quantile(0.75)\n",
    "        IQR = Q3 - Q1\n",
    "        lower_bound = Q1 - 1.5 * IQR\n",
    "        upper_bound = Q3 + 1.5 * IQR\n",
    "        df[col] = np.where(df[col] < lower_bound, lower_bound, df[col])\n",
    "        df[col] = np.where(df[col] > upper_bound, upper_bound, df[col])"
   ]
  },
  {
   "cell_type": "code",
   "execution_count": 80,
   "id": "a7c15f80",
   "metadata": {},
   "outputs": [],
   "source": [
    "replace_outliers(data)"
   ]
  },
  {
   "cell_type": "code",
   "execution_count": 81,
   "id": "0d8132c4",
   "metadata": {},
   "outputs": [
    {
     "data": {
      "application/vnd.microsoft.datawrangler.viewer.v0+json": {
       "columns": [
        {
         "name": "index",
         "rawType": "object",
         "type": "string"
        },
        {
         "name": "0",
         "rawType": "object",
         "type": "unknown"
        }
       ],
       "ref": "379efc8b-68df-4496-9da5-6e7ed887f26e",
       "rows": [
        [
         "Hydroxyurea",
         "float64"
        ],
        [
         "Asthma",
         "object"
        ],
        [
         "ICS",
         "float64"
        ],
        [
         "LABA",
         "float64"
        ],
        [
         "Gender",
         "object"
        ],
        [
         "Age",
         "float64"
        ],
        [
         "Height",
         "float64"
        ],
        [
         "Weight",
         "float64"
        ],
        [
         "BMI",
         "float64"
        ],
        [
         "R5Hz_PP",
         "float64"
        ],
        [
         "R20Hz_PP",
         "float64"
        ],
        [
         "X5Hz_PP",
         "float64"
        ],
        [
         "Fres_PP",
         "float64"
        ]
       ],
       "shape": {
        "columns": 1,
        "rows": 13
       }
      },
      "text/plain": [
       "Hydroxyurea    float64\n",
       "Asthma          object\n",
       "ICS            float64\n",
       "LABA           float64\n",
       "Gender          object\n",
       "Age            float64\n",
       "Height         float64\n",
       "Weight         float64\n",
       "BMI            float64\n",
       "R5Hz_PP        float64\n",
       "R20Hz_PP       float64\n",
       "X5Hz_PP        float64\n",
       "Fres_PP        float64\n",
       "dtype: object"
      ]
     },
     "execution_count": 81,
     "metadata": {},
     "output_type": "execute_result"
    }
   ],
   "source": [
    "data.dtypes"
   ]
  },
  {
   "cell_type": "code",
   "execution_count": 82,
   "id": "079d3cb4",
   "metadata": {},
   "outputs": [
    {
     "data": {
      "text/plain": [
       "6.1"
      ]
     },
     "execution_count": 82,
     "metadata": {},
     "output_type": "execute_result"
    }
   ],
   "source": [
    "data['Fres_PP'].min()"
   ]
  },
  {
   "cell_type": "code",
   "execution_count": 83,
   "id": "d9dc03b7",
   "metadata": {},
   "outputs": [
    {
     "data": {
      "text/plain": [
       "22.475"
      ]
     },
     "execution_count": 83,
     "metadata": {},
     "output_type": "execute_result"
    }
   ],
   "source": [
    "data['Fres_PP'].max()"
   ]
  },
  {
   "cell_type": "code",
   "execution_count": 84,
   "id": "54027897",
   "metadata": {},
   "outputs": [],
   "source": [
    "# Sauvegarde du dataset nettoyé\n",
    "data.to_csv(\"BMI_IOS_SCD_Asthma_Clean.csv\", index=False)"
   ]
  },
  {
   "cell_type": "markdown",
   "id": "0b1b0f5d",
   "metadata": {},
   "source": [
    "# Modèle de Machine Learning (Random Forest Classifier)"
   ]
  },
  {
   "cell_type": "code",
   "execution_count": 85,
   "id": "51d71f8c",
   "metadata": {},
   "outputs": [],
   "source": [
    "from sklearn.model_selection import train_test_split, GridSearchCV, cross_val_score\n",
    "from sklearn.preprocessing import LabelEncoder, OneHotEncoder, StandardScaler, label_binarize\n",
    "from sklearn.ensemble import RandomForestClassifier\n",
    "from sklearn.compose import ColumnTransformer\n",
    "from sklearn.pipeline import Pipeline\n",
    "from sklearn.impute import SimpleImputer"
   ]
  },
  {
   "cell_type": "code",
   "execution_count": 86,
   "id": "3cd56e23",
   "metadata": {},
   "outputs": [
    {
     "data": {
      "application/vnd.microsoft.datawrangler.viewer.v0+json": {
       "columns": [
        {
         "name": "index",
         "rawType": "int64",
         "type": "integer"
        },
        {
         "name": "Hydroxyurea",
         "rawType": "float64",
         "type": "float"
        },
        {
         "name": "ICS",
         "rawType": "float64",
         "type": "float"
        },
        {
         "name": "LABA",
         "rawType": "float64",
         "type": "float"
        },
        {
         "name": "Gender",
         "rawType": "int32",
         "type": "integer"
        },
        {
         "name": "Age",
         "rawType": "float64",
         "type": "float"
        },
        {
         "name": "Height",
         "rawType": "float64",
         "type": "float"
        },
        {
         "name": "Weight",
         "rawType": "float64",
         "type": "float"
        },
        {
         "name": "BMI",
         "rawType": "float64",
         "type": "float"
        },
        {
         "name": "R5Hz_PP",
         "rawType": "float64",
         "type": "float"
        },
        {
         "name": "R20Hz_PP",
         "rawType": "float64",
         "type": "float"
        },
        {
         "name": "X5Hz_PP",
         "rawType": "float64",
         "type": "float"
        },
        {
         "name": "Fres_PP",
         "rawType": "float64",
         "type": "float"
        },
        {
         "name": "New_Asthma",
         "rawType": "int32",
         "type": "integer"
        }
       ],
       "ref": "3aad0955-fa18-4092-a88f-18eef566ec98",
       "rows": [
        [
         "0",
         "1.0",
         "1.0",
         "0.0",
         "1",
         "19.916666666666668",
         "164.1",
         "61.5",
         "22.84",
         "0.5075",
         "0.399",
         "0.04500000000000004",
         "13.230000000000002",
         "1"
        ],
        [
         "1",
         "1.0",
         "1.0",
         "0.0",
         "1",
         "16.083333333333332",
         "162.7",
         "62.3",
         "23.53",
         "0.3605",
         "0.294",
         "-0.1665",
         "16.9",
         "1"
        ],
        [
         "2",
         "1.0",
         "1.0",
         "0.0",
         "1",
         "17.666666666666668",
         "163.5",
         "63.1",
         "23.6",
         "0.3745",
         "0.294",
         "-0.261",
         "15.9",
         "1"
        ],
        [
         "3",
         "1.0",
         "1.0",
         "0.0",
         "1",
         "18.666666666666668",
         "163.8",
         "63.7",
         "23.74",
         "0.3045",
         "0.261",
         "0.04500000000000004",
         "13.230000000000002",
         "1"
        ],
        [
         "4",
         "0.0",
         "0.0",
         "0.0",
         "0",
         "17.0",
         "154.5",
         "66.4",
         "27.82",
         "0.434",
         "0.363",
         "-0.147",
         "13.5",
         "0"
        ]
       ],
       "shape": {
        "columns": 13,
        "rows": 5
       }
      },
      "text/html": [
       "<div>\n",
       "<style scoped>\n",
       "    .dataframe tbody tr th:only-of-type {\n",
       "        vertical-align: middle;\n",
       "    }\n",
       "\n",
       "    .dataframe tbody tr th {\n",
       "        vertical-align: top;\n",
       "    }\n",
       "\n",
       "    .dataframe thead th {\n",
       "        text-align: right;\n",
       "    }\n",
       "</style>\n",
       "<table border=\"1\" class=\"dataframe\">\n",
       "  <thead>\n",
       "    <tr style=\"text-align: right;\">\n",
       "      <th></th>\n",
       "      <th>Hydroxyurea</th>\n",
       "      <th>ICS</th>\n",
       "      <th>LABA</th>\n",
       "      <th>Gender</th>\n",
       "      <th>Age</th>\n",
       "      <th>Height</th>\n",
       "      <th>Weight</th>\n",
       "      <th>BMI</th>\n",
       "      <th>R5Hz_PP</th>\n",
       "      <th>R20Hz_PP</th>\n",
       "      <th>X5Hz_PP</th>\n",
       "      <th>Fres_PP</th>\n",
       "      <th>New_Asthma</th>\n",
       "    </tr>\n",
       "  </thead>\n",
       "  <tbody>\n",
       "    <tr>\n",
       "      <th>0</th>\n",
       "      <td>1.0</td>\n",
       "      <td>1.0</td>\n",
       "      <td>0.0</td>\n",
       "      <td>1</td>\n",
       "      <td>19.916667</td>\n",
       "      <td>164.1</td>\n",
       "      <td>61.5</td>\n",
       "      <td>22.84</td>\n",
       "      <td>0.5075</td>\n",
       "      <td>0.399</td>\n",
       "      <td>0.0450</td>\n",
       "      <td>13.23</td>\n",
       "      <td>1</td>\n",
       "    </tr>\n",
       "    <tr>\n",
       "      <th>1</th>\n",
       "      <td>1.0</td>\n",
       "      <td>1.0</td>\n",
       "      <td>0.0</td>\n",
       "      <td>1</td>\n",
       "      <td>16.083333</td>\n",
       "      <td>162.7</td>\n",
       "      <td>62.3</td>\n",
       "      <td>23.53</td>\n",
       "      <td>0.3605</td>\n",
       "      <td>0.294</td>\n",
       "      <td>-0.1665</td>\n",
       "      <td>16.90</td>\n",
       "      <td>1</td>\n",
       "    </tr>\n",
       "    <tr>\n",
       "      <th>2</th>\n",
       "      <td>1.0</td>\n",
       "      <td>1.0</td>\n",
       "      <td>0.0</td>\n",
       "      <td>1</td>\n",
       "      <td>17.666667</td>\n",
       "      <td>163.5</td>\n",
       "      <td>63.1</td>\n",
       "      <td>23.60</td>\n",
       "      <td>0.3745</td>\n",
       "      <td>0.294</td>\n",
       "      <td>-0.2610</td>\n",
       "      <td>15.90</td>\n",
       "      <td>1</td>\n",
       "    </tr>\n",
       "    <tr>\n",
       "      <th>3</th>\n",
       "      <td>1.0</td>\n",
       "      <td>1.0</td>\n",
       "      <td>0.0</td>\n",
       "      <td>1</td>\n",
       "      <td>18.666667</td>\n",
       "      <td>163.8</td>\n",
       "      <td>63.7</td>\n",
       "      <td>23.74</td>\n",
       "      <td>0.3045</td>\n",
       "      <td>0.261</td>\n",
       "      <td>0.0450</td>\n",
       "      <td>13.23</td>\n",
       "      <td>1</td>\n",
       "    </tr>\n",
       "    <tr>\n",
       "      <th>4</th>\n",
       "      <td>0.0</td>\n",
       "      <td>0.0</td>\n",
       "      <td>0.0</td>\n",
       "      <td>0</td>\n",
       "      <td>17.000000</td>\n",
       "      <td>154.5</td>\n",
       "      <td>66.4</td>\n",
       "      <td>27.82</td>\n",
       "      <td>0.4340</td>\n",
       "      <td>0.363</td>\n",
       "      <td>-0.1470</td>\n",
       "      <td>13.50</td>\n",
       "      <td>0</td>\n",
       "    </tr>\n",
       "  </tbody>\n",
       "</table>\n",
       "</div>"
      ],
      "text/plain": [
       "   Hydroxyurea  ICS  LABA  Gender        Age  Height  Weight    BMI  R5Hz_PP  \\\n",
       "0          1.0  1.0   0.0       1  19.916667   164.1    61.5  22.84   0.5075   \n",
       "1          1.0  1.0   0.0       1  16.083333   162.7    62.3  23.53   0.3605   \n",
       "2          1.0  1.0   0.0       1  17.666667   163.5    63.1  23.60   0.3745   \n",
       "3          1.0  1.0   0.0       1  18.666667   163.8    63.7  23.74   0.3045   \n",
       "4          0.0  0.0   0.0       0  17.000000   154.5    66.4  27.82   0.4340   \n",
       "\n",
       "   R20Hz_PP  X5Hz_PP  Fres_PP  New_Asthma  \n",
       "0     0.399   0.0450    13.23           1  \n",
       "1     0.294  -0.1665    16.90           1  \n",
       "2     0.294  -0.2610    15.90           1  \n",
       "3     0.261   0.0450    13.23           1  \n",
       "4     0.363  -0.1470    13.50           0  "
      ]
     },
     "execution_count": 86,
     "metadata": {},
     "output_type": "execute_result"
    }
   ],
   "source": [
    "# Encodage de la variable cible cut et de Gender, utilisation de LabelEncoder\n",
    "label_encoder = LabelEncoder()\n",
    "data[\"New_Asthma\"] = label_encoder.fit_transform(data[\"Asthma\"])\n",
    "data['Gender'] = label_encoder.fit_transform(data['Gender'])\n",
    "\n",
    "data.drop(\"Asthma\", axis=1, inplace=True)\n",
    "\n",
    "# Vérifier le résultat\n",
    "data.head()"
   ]
  },
  {
   "cell_type": "code",
   "execution_count": 87,
   "id": "864526d9",
   "metadata": {},
   "outputs": [],
   "source": [
    "# Séparation des variables secondaires et de la variable cible\n",
    "X = data.drop(columns=['New_Asthma'])\n",
    "y = data['New_Asthma']"
   ]
  },
  {
   "cell_type": "code",
   "execution_count": 88,
   "id": "a8a83593",
   "metadata": {},
   "outputs": [
    {
     "data": {
      "application/vnd.microsoft.datawrangler.viewer.v0+json": {
       "columns": [
        {
         "name": "index",
         "rawType": "int64",
         "type": "integer"
        },
        {
         "name": "Hydroxyurea",
         "rawType": "float64",
         "type": "float"
        },
        {
         "name": "ICS",
         "rawType": "float64",
         "type": "float"
        },
        {
         "name": "LABA",
         "rawType": "float64",
         "type": "float"
        },
        {
         "name": "Gender",
         "rawType": "int32",
         "type": "integer"
        },
        {
         "name": "Age",
         "rawType": "float64",
         "type": "float"
        },
        {
         "name": "Height",
         "rawType": "float64",
         "type": "float"
        },
        {
         "name": "Weight",
         "rawType": "float64",
         "type": "float"
        },
        {
         "name": "BMI",
         "rawType": "float64",
         "type": "float"
        },
        {
         "name": "R5Hz_PP",
         "rawType": "float64",
         "type": "float"
        },
        {
         "name": "R20Hz_PP",
         "rawType": "float64",
         "type": "float"
        },
        {
         "name": "X5Hz_PP",
         "rawType": "float64",
         "type": "float"
        },
        {
         "name": "Fres_PP",
         "rawType": "float64",
         "type": "float"
        }
       ],
       "ref": "af118ede-0a7e-43a4-ab36-dbe4aff282d4",
       "rows": [
        [
         "0",
         "1.0",
         "1.0",
         "0.0",
         "1",
         "19.916666666666668",
         "164.1",
         "61.5",
         "22.84",
         "0.5075",
         "0.399",
         "0.04500000000000004",
         "13.230000000000002"
        ],
        [
         "1",
         "1.0",
         "1.0",
         "0.0",
         "1",
         "16.083333333333332",
         "162.7",
         "62.3",
         "23.53",
         "0.3605",
         "0.294",
         "-0.1665",
         "16.9"
        ],
        [
         "2",
         "1.0",
         "1.0",
         "0.0",
         "1",
         "17.666666666666668",
         "163.5",
         "63.1",
         "23.6",
         "0.3745",
         "0.294",
         "-0.261",
         "15.9"
        ],
        [
         "3",
         "1.0",
         "1.0",
         "0.0",
         "1",
         "18.666666666666668",
         "163.8",
         "63.7",
         "23.74",
         "0.3045",
         "0.261",
         "0.04500000000000004",
         "13.230000000000002"
        ],
        [
         "4",
         "0.0",
         "0.0",
         "0.0",
         "0",
         "17.0",
         "154.5",
         "66.4",
         "27.82",
         "0.434",
         "0.363",
         "-0.147",
         "13.5"
        ],
        [
         "5",
         "1.0",
         "0.0",
         "0.0",
         "1",
         "14.833333333333334",
         "158.0",
         "51.9",
         "20.79",
         "0.3815",
         "0.258",
         "-0.1725",
         "14.8"
        ],
        [
         "6",
         "1.0",
         "1.0",
         "0.0",
         "1",
         "15.5",
         "164.5",
         "56.7",
         "20.95",
         "0.4095",
         "0.315",
         "-0.1605",
         "15.9"
        ],
        [
         "7",
         "0.0",
         "0.0",
         "0.0",
         "0",
         "18.5",
         "173.0",
         "66.7",
         "22.29",
         "0.3535",
         "0.396",
         "0.04500000000000004",
         "13.230000000000002"
        ],
        [
         "8",
         "0.0",
         "0.0",
         "0.0",
         "0",
         "17.5",
         "173.0",
         "66.9",
         "22.35",
         "0.6265",
         "0.4545",
         "-0.2925",
         "17.5"
        ],
        [
         "9",
         "0.0",
         "0.0",
         "0.0",
         "0",
         "16.333333333333332",
         "158.0",
         "52.9",
         "21.19",
         "0.476",
         "0.291",
         "-0.21",
         "19.9"
        ],
        [
         "10",
         "1.0",
         "1.0",
         "0.0",
         "1",
         "14.583333333333334",
         "153.5",
         "39.0",
         "16.55",
         "0.33599999999999997",
         "0.327",
         "-0.1665",
         "10.4"
        ],
        [
         "11",
         "1.0",
         "1.0",
         "0.0",
         "1",
         "16.666666666666668",
         "169.5",
         "50.6",
         "17.61",
         "0.4305",
         "0.345",
         "-0.24599999999999997",
         "10.9"
        ],
        [
         "12",
         "1.0",
         "1.0",
         "0.0",
         "1",
         "18.333333333333332",
         "176.0",
         "55.2",
         "17.82",
         "0.3675",
         "0.33899999999999997",
         "0.04500000000000004",
         "13.230000000000002"
        ],
        [
         "13",
         "0.0",
         "1.0",
         "0.0",
         "0",
         "14.416666666666666",
         "163.8",
         "56.3",
         "20.98",
         "0.4095",
         "0.351",
         "-0.138",
         "15.2"
        ],
        [
         "14",
         "0.0",
         "0.0",
         "0.0",
         "0",
         "15.333333333333334",
         "165.8",
         "59.6",
         "21.68",
         "0.5075",
         "0.44999999999999996",
         "-0.23099999999999998",
         "12.7"
        ],
        [
         "15",
         "1.0",
         "1.0",
         "0.0",
         "1",
         "15.5",
         "171.5",
         "54.1",
         "18.39",
         "0.357",
         "0.189",
         "-0.282",
         "15.1"
        ],
        [
         "16",
         "1.0",
         "1.0",
         "0.0",
         "1",
         "17.916666666666668",
         "177.0",
         "59.2",
         "18.9",
         "0.5459999999999999",
         "0.216",
         "-0.375",
         "17.8"
        ],
        [
         "17",
         "1.0",
         "1.0",
         "0.0",
         "1",
         "19.666666666666668",
         "178.5",
         "60.9",
         "19.11",
         "0.42",
         "0.24899999999999997",
         "0.04500000000000004",
         "13.230000000000002"
        ],
        [
         "18",
         "1.0",
         "1.0",
         "0.0",
         "1",
         "16.5",
         "174.3",
         "58.2",
         "19.16",
         "0.46199999999999997",
         "0.213",
         "-0.3495",
         "16.299999999999997"
        ],
        [
         "19",
         "1.0",
         "1.0",
         "0.0",
         "1",
         "17.75",
         "169.7",
         "55.1",
         "19.13",
         "0.4165",
         "0.267",
         "-0.34049999999999997",
         "17.0"
        ],
        [
         "20",
         "1.0",
         "1.0",
         "0.0",
         "1",
         "18.75",
         "171.8",
         "56.7",
         "19.21",
         "0.4095",
         "0.345",
         "0.04500000000000004",
         "13.230000000000002"
        ],
        [
         "21",
         "1.0",
         "1.0",
         "0.0",
         "0",
         "12.25",
         "148.3",
         "44.4",
         "20.19",
         "0.315",
         "0.23099999999999998",
         "-0.375",
         "13.4"
        ],
        [
         "22",
         "1.0",
         "1.0",
         "0.0",
         "0",
         "13.333333333333334",
         "150.8",
         "46.6",
         "20.49",
         "0.39549999999999996",
         "0.237",
         "-0.159",
         "14.2"
        ],
        [
         "23",
         "1.0",
         "1.0",
         "0.0",
         "0",
         "15.833333333333334",
         "152.1",
         "50.1",
         "21.66",
         "0.378",
         "0.24899999999999997",
         "-0.22649999999999998",
         "17.7"
        ],
        [
         "24",
         "1.0",
         "1.0",
         "0.0",
         "0",
         "14.916666666666666",
         "150.9",
         "49.4",
         "21.69",
         "0.34299999999999997",
         "0.24599999999999997",
         "-0.15",
         "17.4"
        ],
        [
         "25",
         "1.0",
         "0.0",
         "0.0",
         "0",
         "11.25",
         "138.4",
         "30.9",
         "16.13",
         "0.32899999999999996",
         "0.24899999999999997",
         "-0.2175",
         "12.5"
        ],
        [
         "26",
         "1.0",
         "0.0",
         "0.0",
         "0",
         "12.25",
         "146.2",
         "36.9",
         "17.26",
         "0.392",
         "0.306",
         "-0.177",
         "14.0"
        ],
        [
         "27",
         "1.0",
         "0.0",
         "0.0",
         "0",
         "13.25",
         "151.2",
         "48.0",
         "21.0",
         "0.35",
         "0.282",
         "-0.18",
         "13.899999999999999"
        ],
        [
         "28",
         "1.0",
         "0.0",
         "0.0",
         "0",
         "14.25",
         "152.7",
         "54.3",
         "23.29",
         "0.34299999999999997",
         "0.276",
         "-0.1665",
         "12.8"
        ],
        [
         "29",
         "1.0",
         "1.0",
         "0.0",
         "0",
         "10.666666666666666",
         "137.0",
         "30.8",
         "16.41",
         "0.4375",
         "0.297",
         "-0.1965",
         "16.8"
        ],
        [
         "30",
         "1.0",
         "1.0",
         "0.0",
         "0",
         "11.166666666666666",
         "139.4",
         "33.8",
         "17.39",
         "0.4375",
         "0.297",
         "-0.1965",
         "16.8"
        ],
        [
         "31",
         "1.0",
         "1.0",
         "0.0",
         "0",
         "12.25",
         "145.4",
         "38.4",
         "18.16",
         "0.5319999999999999",
         "0.05849999999999997",
         "-0.285",
         "18.2"
        ],
        [
         "32",
         "1.0",
         "1.0",
         "0.0",
         "0",
         "13.25",
         "153.4",
         "44.5",
         "18.91",
         "0.5355",
         "0.276",
         "-0.36",
         "18.1"
        ],
        [
         "33",
         "1.0",
         "1.0",
         "0.0",
         "0",
         "14.666666666666666",
         "158.4",
         "56.1",
         "22.36",
         "0.469",
         "0.336",
         "-0.2355",
         "21.9"
        ],
        [
         "34",
         "1.0",
         "0.0",
         "0.0",
         "1",
         "11.5",
         "143.1",
         "33.5",
         "16.36",
         "0.2345",
         "0.213",
         "-0.1215",
         "11.7"
        ],
        [
         "35",
         "1.0",
         "0.0",
         "0.0",
         "1",
         "13.416666666666666",
         "150.7",
         "39.8",
         "17.52",
         "0.27299999999999996",
         "0.258",
         "-0.1515",
         "11.899999999999999"
        ],
        [
         "36",
         "1.0",
         "0.0",
         "0.0",
         "1",
         "14.583333333333334",
         "156.0",
         "46.4",
         "19.07",
         "0.322",
         "0.306",
         "-0.2085",
         "10.9"
        ],
        [
         "37",
         "1.0",
         "0.0",
         "0.0",
         "0",
         "10.833333333333334",
         "142.2",
         "32.4",
         "16.02",
         "0.259",
         "0.213",
         "-0.1335",
         "12.1"
        ],
        [
         "38",
         "1.0",
         "0.0",
         "0.0",
         "0",
         "11.083333333333334",
         "144.8",
         "35.2",
         "16.79",
         "0.24149999999999996",
         "0.20400000000000001",
         "-0.1215",
         "11.7"
        ],
        [
         "39",
         "1.0",
         "0.0",
         "0.0",
         "0",
         "12.583333333333334",
         "155.8",
         "43.2",
         "17.8",
         "0.3115",
         "0.294",
         "-0.141",
         "10.600000000000001"
        ],
        [
         "40",
         "1.0",
         "0.0",
         "0.0",
         "0",
         "13.583333333333334",
         "158.2",
         "48.6",
         "19.42",
         "0.2975",
         "0.237",
         "-0.12",
         "12.7"
        ],
        [
         "41",
         "1.0",
         "0.0",
         "0.0",
         "0",
         "14.583333333333334",
         "159.6",
         "52.8",
         "20.73",
         "0.33249999999999996",
         "0.285",
         "-0.1515",
         "10.4"
        ],
        [
         "42",
         "0.0",
         "0.0",
         "0.0",
         "1",
         "15.583333333333334",
         "168.7",
         "62.7",
         "22.03",
         "0.2905",
         "0.186",
         "-0.216",
         "15.3"
        ],
        [
         "43",
         "1.0",
         "0.0",
         "0.0",
         "1",
         "18.166666666666668",
         "172.5",
         "72.5",
         "24.36",
         "0.4235",
         "0.348",
         "0.04500000000000004",
         "13.230000000000002"
        ],
        [
         "44",
         "0.0",
         "0.0",
         "0.0",
         "0",
         "15.583333333333334",
         "160.5",
         "46.8",
         "18.17",
         "0.392",
         "0.33899999999999997",
         "-0.201",
         "12.4"
        ],
        [
         "45",
         "0.0",
         "1.0",
         "0.0",
         "0",
         "18.166666666666668",
         "165.7",
         "57.1",
         "20.8",
         "0.40249999999999997",
         "0.372",
         "0.04500000000000004",
         "13.230000000000002"
        ],
        [
         "46",
         "1.0",
         "1.0",
         "0.0",
         "0",
         "14.833333333333334",
         "155.4",
         "91.4",
         "27.9325",
         "0.5495",
         "0.321",
         "-0.18",
         "17.3"
        ],
        [
         "47",
         "1.0",
         "1.0",
         "0.0",
         "0",
         "15.833333333333334",
         "155.4",
         "94.475",
         "27.9325",
         "0.357",
         "0.282",
         "-0.06149999999999999",
         "12.4"
        ],
        [
         "48",
         "1.0",
         "0.0",
         "0.0",
         "0",
         "17.0",
         "157.5",
         "94.475",
         "27.9325",
         "0.364",
         "0.315",
         "-0.051000000000000004",
         "9.200000000000001"
        ],
        [
         "49",
         "1.0",
         "1.0",
         "0.0",
         "0",
         "18.0",
         "157.5",
         "94.475",
         "27.9325",
         "0.630875",
         "0.4545",
         "0.04500000000000004",
         "13.230000000000002"
        ]
       ],
       "shape": {
        "columns": 12,
        "rows": 219
       }
      },
      "text/html": [
       "<div>\n",
       "<style scoped>\n",
       "    .dataframe tbody tr th:only-of-type {\n",
       "        vertical-align: middle;\n",
       "    }\n",
       "\n",
       "    .dataframe tbody tr th {\n",
       "        vertical-align: top;\n",
       "    }\n",
       "\n",
       "    .dataframe thead th {\n",
       "        text-align: right;\n",
       "    }\n",
       "</style>\n",
       "<table border=\"1\" class=\"dataframe\">\n",
       "  <thead>\n",
       "    <tr style=\"text-align: right;\">\n",
       "      <th></th>\n",
       "      <th>Hydroxyurea</th>\n",
       "      <th>ICS</th>\n",
       "      <th>LABA</th>\n",
       "      <th>Gender</th>\n",
       "      <th>Age</th>\n",
       "      <th>Height</th>\n",
       "      <th>Weight</th>\n",
       "      <th>BMI</th>\n",
       "      <th>R5Hz_PP</th>\n",
       "      <th>R20Hz_PP</th>\n",
       "      <th>X5Hz_PP</th>\n",
       "      <th>Fres_PP</th>\n",
       "    </tr>\n",
       "  </thead>\n",
       "  <tbody>\n",
       "    <tr>\n",
       "      <th>0</th>\n",
       "      <td>1.0</td>\n",
       "      <td>1.0</td>\n",
       "      <td>0.0</td>\n",
       "      <td>1</td>\n",
       "      <td>19.916667</td>\n",
       "      <td>164.1</td>\n",
       "      <td>61.5</td>\n",
       "      <td>22.84</td>\n",
       "      <td>0.5075</td>\n",
       "      <td>0.399</td>\n",
       "      <td>0.0450</td>\n",
       "      <td>13.23</td>\n",
       "    </tr>\n",
       "    <tr>\n",
       "      <th>1</th>\n",
       "      <td>1.0</td>\n",
       "      <td>1.0</td>\n",
       "      <td>0.0</td>\n",
       "      <td>1</td>\n",
       "      <td>16.083333</td>\n",
       "      <td>162.7</td>\n",
       "      <td>62.3</td>\n",
       "      <td>23.53</td>\n",
       "      <td>0.3605</td>\n",
       "      <td>0.294</td>\n",
       "      <td>-0.1665</td>\n",
       "      <td>16.90</td>\n",
       "    </tr>\n",
       "    <tr>\n",
       "      <th>2</th>\n",
       "      <td>1.0</td>\n",
       "      <td>1.0</td>\n",
       "      <td>0.0</td>\n",
       "      <td>1</td>\n",
       "      <td>17.666667</td>\n",
       "      <td>163.5</td>\n",
       "      <td>63.1</td>\n",
       "      <td>23.60</td>\n",
       "      <td>0.3745</td>\n",
       "      <td>0.294</td>\n",
       "      <td>-0.2610</td>\n",
       "      <td>15.90</td>\n",
       "    </tr>\n",
       "    <tr>\n",
       "      <th>3</th>\n",
       "      <td>1.0</td>\n",
       "      <td>1.0</td>\n",
       "      <td>0.0</td>\n",
       "      <td>1</td>\n",
       "      <td>18.666667</td>\n",
       "      <td>163.8</td>\n",
       "      <td>63.7</td>\n",
       "      <td>23.74</td>\n",
       "      <td>0.3045</td>\n",
       "      <td>0.261</td>\n",
       "      <td>0.0450</td>\n",
       "      <td>13.23</td>\n",
       "    </tr>\n",
       "    <tr>\n",
       "      <th>4</th>\n",
       "      <td>0.0</td>\n",
       "      <td>0.0</td>\n",
       "      <td>0.0</td>\n",
       "      <td>0</td>\n",
       "      <td>17.000000</td>\n",
       "      <td>154.5</td>\n",
       "      <td>66.4</td>\n",
       "      <td>27.82</td>\n",
       "      <td>0.4340</td>\n",
       "      <td>0.363</td>\n",
       "      <td>-0.1470</td>\n",
       "      <td>13.50</td>\n",
       "    </tr>\n",
       "    <tr>\n",
       "      <th>...</th>\n",
       "      <td>...</td>\n",
       "      <td>...</td>\n",
       "      <td>...</td>\n",
       "      <td>...</td>\n",
       "      <td>...</td>\n",
       "      <td>...</td>\n",
       "      <td>...</td>\n",
       "      <td>...</td>\n",
       "      <td>...</td>\n",
       "      <td>...</td>\n",
       "      <td>...</td>\n",
       "      <td>...</td>\n",
       "    </tr>\n",
       "    <tr>\n",
       "      <th>214</th>\n",
       "      <td>0.0</td>\n",
       "      <td>1.0</td>\n",
       "      <td>0.0</td>\n",
       "      <td>1</td>\n",
       "      <td>8.666667</td>\n",
       "      <td>124.0</td>\n",
       "      <td>25.7</td>\n",
       "      <td>16.71</td>\n",
       "      <td>0.2100</td>\n",
       "      <td>0.216</td>\n",
       "      <td>-0.1215</td>\n",
       "      <td>9.40</td>\n",
       "    </tr>\n",
       "    <tr>\n",
       "      <th>215</th>\n",
       "      <td>0.0</td>\n",
       "      <td>0.0</td>\n",
       "      <td>0.0</td>\n",
       "      <td>0</td>\n",
       "      <td>11.500000</td>\n",
       "      <td>160.0</td>\n",
       "      <td>50.6</td>\n",
       "      <td>19.77</td>\n",
       "      <td>0.2940</td>\n",
       "      <td>0.258</td>\n",
       "      <td>-0.1440</td>\n",
       "      <td>13.60</td>\n",
       "    </tr>\n",
       "    <tr>\n",
       "      <th>216</th>\n",
       "      <td>0.0</td>\n",
       "      <td>1.0</td>\n",
       "      <td>0.0</td>\n",
       "      <td>1</td>\n",
       "      <td>7.750000</td>\n",
       "      <td>133.0</td>\n",
       "      <td>30.8</td>\n",
       "      <td>17.41</td>\n",
       "      <td>0.2345</td>\n",
       "      <td>0.201</td>\n",
       "      <td>-0.1095</td>\n",
       "      <td>9.90</td>\n",
       "    </tr>\n",
       "    <tr>\n",
       "      <th>217</th>\n",
       "      <td>0.0</td>\n",
       "      <td>1.0</td>\n",
       "      <td>0.0</td>\n",
       "      <td>1</td>\n",
       "      <td>7.500000</td>\n",
       "      <td>135.0</td>\n",
       "      <td>31.3</td>\n",
       "      <td>17.17</td>\n",
       "      <td>0.3640</td>\n",
       "      <td>0.249</td>\n",
       "      <td>-0.2340</td>\n",
       "      <td>12.00</td>\n",
       "    </tr>\n",
       "    <tr>\n",
       "      <th>218</th>\n",
       "      <td>0.0</td>\n",
       "      <td>0.0</td>\n",
       "      <td>0.0</td>\n",
       "      <td>1</td>\n",
       "      <td>7.833333</td>\n",
       "      <td>121.1</td>\n",
       "      <td>19.6</td>\n",
       "      <td>14.10</td>\n",
       "      <td>0.1960</td>\n",
       "      <td>0.168</td>\n",
       "      <td>-0.1050</td>\n",
       "      <td>9.50</td>\n",
       "    </tr>\n",
       "  </tbody>\n",
       "</table>\n",
       "<p>219 rows × 12 columns</p>\n",
       "</div>"
      ],
      "text/plain": [
       "     Hydroxyurea  ICS  LABA  Gender        Age  Height  Weight    BMI  \\\n",
       "0            1.0  1.0   0.0       1  19.916667   164.1    61.5  22.84   \n",
       "1            1.0  1.0   0.0       1  16.083333   162.7    62.3  23.53   \n",
       "2            1.0  1.0   0.0       1  17.666667   163.5    63.1  23.60   \n",
       "3            1.0  1.0   0.0       1  18.666667   163.8    63.7  23.74   \n",
       "4            0.0  0.0   0.0       0  17.000000   154.5    66.4  27.82   \n",
       "..           ...  ...   ...     ...        ...     ...     ...    ...   \n",
       "214          0.0  1.0   0.0       1   8.666667   124.0    25.7  16.71   \n",
       "215          0.0  0.0   0.0       0  11.500000   160.0    50.6  19.77   \n",
       "216          0.0  1.0   0.0       1   7.750000   133.0    30.8  17.41   \n",
       "217          0.0  1.0   0.0       1   7.500000   135.0    31.3  17.17   \n",
       "218          0.0  0.0   0.0       1   7.833333   121.1    19.6  14.10   \n",
       "\n",
       "     R5Hz_PP  R20Hz_PP  X5Hz_PP  Fres_PP  \n",
       "0     0.5075     0.399   0.0450    13.23  \n",
       "1     0.3605     0.294  -0.1665    16.90  \n",
       "2     0.3745     0.294  -0.2610    15.90  \n",
       "3     0.3045     0.261   0.0450    13.23  \n",
       "4     0.4340     0.363  -0.1470    13.50  \n",
       "..       ...       ...      ...      ...  \n",
       "214   0.2100     0.216  -0.1215     9.40  \n",
       "215   0.2940     0.258  -0.1440    13.60  \n",
       "216   0.2345     0.201  -0.1095     9.90  \n",
       "217   0.3640     0.249  -0.2340    12.00  \n",
       "218   0.1960     0.168  -0.1050     9.50  \n",
       "\n",
       "[219 rows x 12 columns]"
      ]
     },
     "execution_count": 88,
     "metadata": {},
     "output_type": "execute_result"
    }
   ],
   "source": [
    "X"
   ]
  },
  {
   "cell_type": "code",
   "execution_count": 89,
   "id": "d443529f",
   "metadata": {},
   "outputs": [
    {
     "data": {
      "application/vnd.microsoft.datawrangler.viewer.v0+json": {
       "columns": [
        {
         "name": "index",
         "rawType": "int64",
         "type": "integer"
        },
        {
         "name": "New_Asthma",
         "rawType": "int32",
         "type": "integer"
        }
       ],
       "ref": "fac3a458-5e66-447b-bf56-ca335b3dcdae",
       "rows": [
        [
         "0",
         "1"
        ],
        [
         "1",
         "1"
        ],
        [
         "2",
         "1"
        ],
        [
         "3",
         "1"
        ],
        [
         "4",
         "0"
        ],
        [
         "5",
         "1"
        ],
        [
         "6",
         "1"
        ],
        [
         "7",
         "0"
        ],
        [
         "8",
         "0"
        ],
        [
         "9",
         "1"
        ],
        [
         "10",
         "1"
        ],
        [
         "11",
         "1"
        ],
        [
         "12",
         "1"
        ],
        [
         "13",
         "1"
        ],
        [
         "14",
         "1"
        ],
        [
         "15",
         "1"
        ],
        [
         "16",
         "1"
        ],
        [
         "17",
         "1"
        ],
        [
         "18",
         "1"
        ],
        [
         "19",
         "1"
        ],
        [
         "20",
         "1"
        ],
        [
         "21",
         "1"
        ],
        [
         "22",
         "1"
        ],
        [
         "23",
         "1"
        ],
        [
         "24",
         "1"
        ],
        [
         "25",
         "0"
        ],
        [
         "26",
         "0"
        ],
        [
         "27",
         "0"
        ],
        [
         "28",
         "0"
        ],
        [
         "29",
         "1"
        ],
        [
         "30",
         "1"
        ],
        [
         "31",
         "1"
        ],
        [
         "32",
         "1"
        ],
        [
         "33",
         "1"
        ],
        [
         "34",
         "0"
        ],
        [
         "35",
         "0"
        ],
        [
         "36",
         "0"
        ],
        [
         "37",
         "1"
        ],
        [
         "38",
         "1"
        ],
        [
         "39",
         "1"
        ],
        [
         "40",
         "1"
        ],
        [
         "41",
         "1"
        ],
        [
         "42",
         "0"
        ],
        [
         "43",
         "0"
        ],
        [
         "44",
         "1"
        ],
        [
         "45",
         "1"
        ],
        [
         "46",
         "1"
        ],
        [
         "47",
         "1"
        ],
        [
         "48",
         "1"
        ],
        [
         "49",
         "1"
        ]
       ],
       "shape": {
        "columns": 1,
        "rows": 219
       }
      },
      "text/plain": [
       "0      1\n",
       "1      1\n",
       "2      1\n",
       "3      1\n",
       "4      0\n",
       "      ..\n",
       "214    1\n",
       "215    1\n",
       "216    1\n",
       "217    1\n",
       "218    1\n",
       "Name: New_Asthma, Length: 219, dtype: int32"
      ]
     },
     "execution_count": 89,
     "metadata": {},
     "output_type": "execute_result"
    }
   ],
   "source": [
    "y"
   ]
  },
  {
   "cell_type": "code",
   "execution_count": 90,
   "id": "e11f7b0d",
   "metadata": {},
   "outputs": [],
   "source": [
    "# Séparation du jeu de données en ensembles d'entraînement et de test\n",
    "X_train, X_test, y_train, y_test = train_test_split(X, y, test_size=0.2, random_state=42)"
   ]
  },
  {
   "cell_type": "code",
   "execution_count": 91,
   "id": "d5cb7e59",
   "metadata": {},
   "outputs": [],
   "source": [
    "categorial_features = ['Gender']\n",
    "numerical_features = X.select_dtypes(include=['int64', 'float64']).columns.tolist()"
   ]
  },
  {
   "cell_type": "code",
   "execution_count": 92,
   "id": "d73d8034",
   "metadata": {},
   "outputs": [],
   "source": [
    "preprocessor = ColumnTransformer(\n",
    "    transformers=[\n",
    "        ('num', Pipeline(steps=[\n",
    "            ('imputer', SimpleImputer(strategy='mean')),\n",
    "            ('scaler', StandardScaler())\n",
    "        ]), numerical_features),\n",
    "        ('cat', Pipeline(steps=[\n",
    "            ('onehot', OneHotEncoder(handle_unknown='ignore'))\n",
    "        ]), categorial_features)\n",
    "    ])"
   ]
  },
  {
   "cell_type": "code",
   "execution_count": 93,
   "id": "a6678591",
   "metadata": {},
   "outputs": [],
   "source": [
    "model = Pipeline(steps=[\n",
    "    ('preprocessor', preprocessor),\n",
    "    ('classifier', RandomForestClassifier(random_state=42))\n",
    "])"
   ]
  },
  {
   "cell_type": "code",
   "execution_count": 94,
   "id": "5aa089da",
   "metadata": {},
   "outputs": [
    {
     "data": {
      "text/html": [
       "<style>#sk-container-id-3 {\n",
       "  /* Definition of color scheme common for light and dark mode */\n",
       "  --sklearn-color-text: #000;\n",
       "  --sklearn-color-text-muted: #666;\n",
       "  --sklearn-color-line: gray;\n",
       "  /* Definition of color scheme for unfitted estimators */\n",
       "  --sklearn-color-unfitted-level-0: #fff5e6;\n",
       "  --sklearn-color-unfitted-level-1: #f6e4d2;\n",
       "  --sklearn-color-unfitted-level-2: #ffe0b3;\n",
       "  --sklearn-color-unfitted-level-3: chocolate;\n",
       "  /* Definition of color scheme for fitted estimators */\n",
       "  --sklearn-color-fitted-level-0: #f0f8ff;\n",
       "  --sklearn-color-fitted-level-1: #d4ebff;\n",
       "  --sklearn-color-fitted-level-2: #b3dbfd;\n",
       "  --sklearn-color-fitted-level-3: cornflowerblue;\n",
       "\n",
       "  /* Specific color for light theme */\n",
       "  --sklearn-color-text-on-default-background: var(--sg-text-color, var(--theme-code-foreground, var(--jp-content-font-color1, black)));\n",
       "  --sklearn-color-background: var(--sg-background-color, var(--theme-background, var(--jp-layout-color0, white)));\n",
       "  --sklearn-color-border-box: var(--sg-text-color, var(--theme-code-foreground, var(--jp-content-font-color1, black)));\n",
       "  --sklearn-color-icon: #696969;\n",
       "\n",
       "  @media (prefers-color-scheme: dark) {\n",
       "    /* Redefinition of color scheme for dark theme */\n",
       "    --sklearn-color-text-on-default-background: var(--sg-text-color, var(--theme-code-foreground, var(--jp-content-font-color1, white)));\n",
       "    --sklearn-color-background: var(--sg-background-color, var(--theme-background, var(--jp-layout-color0, #111)));\n",
       "    --sklearn-color-border-box: var(--sg-text-color, var(--theme-code-foreground, var(--jp-content-font-color1, white)));\n",
       "    --sklearn-color-icon: #878787;\n",
       "  }\n",
       "}\n",
       "\n",
       "#sk-container-id-3 {\n",
       "  color: var(--sklearn-color-text);\n",
       "}\n",
       "\n",
       "#sk-container-id-3 pre {\n",
       "  padding: 0;\n",
       "}\n",
       "\n",
       "#sk-container-id-3 input.sk-hidden--visually {\n",
       "  border: 0;\n",
       "  clip: rect(1px 1px 1px 1px);\n",
       "  clip: rect(1px, 1px, 1px, 1px);\n",
       "  height: 1px;\n",
       "  margin: -1px;\n",
       "  overflow: hidden;\n",
       "  padding: 0;\n",
       "  position: absolute;\n",
       "  width: 1px;\n",
       "}\n",
       "\n",
       "#sk-container-id-3 div.sk-dashed-wrapped {\n",
       "  border: 1px dashed var(--sklearn-color-line);\n",
       "  margin: 0 0.4em 0.5em 0.4em;\n",
       "  box-sizing: border-box;\n",
       "  padding-bottom: 0.4em;\n",
       "  background-color: var(--sklearn-color-background);\n",
       "}\n",
       "\n",
       "#sk-container-id-3 div.sk-container {\n",
       "  /* jupyter's `normalize.less` sets `[hidden] { display: none; }`\n",
       "     but bootstrap.min.css set `[hidden] { display: none !important; }`\n",
       "     so we also need the `!important` here to be able to override the\n",
       "     default hidden behavior on the sphinx rendered scikit-learn.org.\n",
       "     See: https://github.com/scikit-learn/scikit-learn/issues/21755 */\n",
       "  display: inline-block !important;\n",
       "  position: relative;\n",
       "}\n",
       "\n",
       "#sk-container-id-3 div.sk-text-repr-fallback {\n",
       "  display: none;\n",
       "}\n",
       "\n",
       "div.sk-parallel-item,\n",
       "div.sk-serial,\n",
       "div.sk-item {\n",
       "  /* draw centered vertical line to link estimators */\n",
       "  background-image: linear-gradient(var(--sklearn-color-text-on-default-background), var(--sklearn-color-text-on-default-background));\n",
       "  background-size: 2px 100%;\n",
       "  background-repeat: no-repeat;\n",
       "  background-position: center center;\n",
       "}\n",
       "\n",
       "/* Parallel-specific style estimator block */\n",
       "\n",
       "#sk-container-id-3 div.sk-parallel-item::after {\n",
       "  content: \"\";\n",
       "  width: 100%;\n",
       "  border-bottom: 2px solid var(--sklearn-color-text-on-default-background);\n",
       "  flex-grow: 1;\n",
       "}\n",
       "\n",
       "#sk-container-id-3 div.sk-parallel {\n",
       "  display: flex;\n",
       "  align-items: stretch;\n",
       "  justify-content: center;\n",
       "  background-color: var(--sklearn-color-background);\n",
       "  position: relative;\n",
       "}\n",
       "\n",
       "#sk-container-id-3 div.sk-parallel-item {\n",
       "  display: flex;\n",
       "  flex-direction: column;\n",
       "}\n",
       "\n",
       "#sk-container-id-3 div.sk-parallel-item:first-child::after {\n",
       "  align-self: flex-end;\n",
       "  width: 50%;\n",
       "}\n",
       "\n",
       "#sk-container-id-3 div.sk-parallel-item:last-child::after {\n",
       "  align-self: flex-start;\n",
       "  width: 50%;\n",
       "}\n",
       "\n",
       "#sk-container-id-3 div.sk-parallel-item:only-child::after {\n",
       "  width: 0;\n",
       "}\n",
       "\n",
       "/* Serial-specific style estimator block */\n",
       "\n",
       "#sk-container-id-3 div.sk-serial {\n",
       "  display: flex;\n",
       "  flex-direction: column;\n",
       "  align-items: center;\n",
       "  background-color: var(--sklearn-color-background);\n",
       "  padding-right: 1em;\n",
       "  padding-left: 1em;\n",
       "}\n",
       "\n",
       "\n",
       "/* Toggleable style: style used for estimator/Pipeline/ColumnTransformer box that is\n",
       "clickable and can be expanded/collapsed.\n",
       "- Pipeline and ColumnTransformer use this feature and define the default style\n",
       "- Estimators will overwrite some part of the style using the `sk-estimator` class\n",
       "*/\n",
       "\n",
       "/* Pipeline and ColumnTransformer style (default) */\n",
       "\n",
       "#sk-container-id-3 div.sk-toggleable {\n",
       "  /* Default theme specific background. It is overwritten whether we have a\n",
       "  specific estimator or a Pipeline/ColumnTransformer */\n",
       "  background-color: var(--sklearn-color-background);\n",
       "}\n",
       "\n",
       "/* Toggleable label */\n",
       "#sk-container-id-3 label.sk-toggleable__label {\n",
       "  cursor: pointer;\n",
       "  display: flex;\n",
       "  width: 100%;\n",
       "  margin-bottom: 0;\n",
       "  padding: 0.5em;\n",
       "  box-sizing: border-box;\n",
       "  text-align: center;\n",
       "  align-items: start;\n",
       "  justify-content: space-between;\n",
       "  gap: 0.5em;\n",
       "}\n",
       "\n",
       "#sk-container-id-3 label.sk-toggleable__label .caption {\n",
       "  font-size: 0.6rem;\n",
       "  font-weight: lighter;\n",
       "  color: var(--sklearn-color-text-muted);\n",
       "}\n",
       "\n",
       "#sk-container-id-3 label.sk-toggleable__label-arrow:before {\n",
       "  /* Arrow on the left of the label */\n",
       "  content: \"▸\";\n",
       "  float: left;\n",
       "  margin-right: 0.25em;\n",
       "  color: var(--sklearn-color-icon);\n",
       "}\n",
       "\n",
       "#sk-container-id-3 label.sk-toggleable__label-arrow:hover:before {\n",
       "  color: var(--sklearn-color-text);\n",
       "}\n",
       "\n",
       "/* Toggleable content - dropdown */\n",
       "\n",
       "#sk-container-id-3 div.sk-toggleable__content {\n",
       "  max-height: 0;\n",
       "  max-width: 0;\n",
       "  overflow: hidden;\n",
       "  text-align: left;\n",
       "  /* unfitted */\n",
       "  background-color: var(--sklearn-color-unfitted-level-0);\n",
       "}\n",
       "\n",
       "#sk-container-id-3 div.sk-toggleable__content.fitted {\n",
       "  /* fitted */\n",
       "  background-color: var(--sklearn-color-fitted-level-0);\n",
       "}\n",
       "\n",
       "#sk-container-id-3 div.sk-toggleable__content pre {\n",
       "  margin: 0.2em;\n",
       "  border-radius: 0.25em;\n",
       "  color: var(--sklearn-color-text);\n",
       "  /* unfitted */\n",
       "  background-color: var(--sklearn-color-unfitted-level-0);\n",
       "}\n",
       "\n",
       "#sk-container-id-3 div.sk-toggleable__content.fitted pre {\n",
       "  /* unfitted */\n",
       "  background-color: var(--sklearn-color-fitted-level-0);\n",
       "}\n",
       "\n",
       "#sk-container-id-3 input.sk-toggleable__control:checked~div.sk-toggleable__content {\n",
       "  /* Expand drop-down */\n",
       "  max-height: 200px;\n",
       "  max-width: 100%;\n",
       "  overflow: auto;\n",
       "}\n",
       "\n",
       "#sk-container-id-3 input.sk-toggleable__control:checked~label.sk-toggleable__label-arrow:before {\n",
       "  content: \"▾\";\n",
       "}\n",
       "\n",
       "/* Pipeline/ColumnTransformer-specific style */\n",
       "\n",
       "#sk-container-id-3 div.sk-label input.sk-toggleable__control:checked~label.sk-toggleable__label {\n",
       "  color: var(--sklearn-color-text);\n",
       "  background-color: var(--sklearn-color-unfitted-level-2);\n",
       "}\n",
       "\n",
       "#sk-container-id-3 div.sk-label.fitted input.sk-toggleable__control:checked~label.sk-toggleable__label {\n",
       "  background-color: var(--sklearn-color-fitted-level-2);\n",
       "}\n",
       "\n",
       "/* Estimator-specific style */\n",
       "\n",
       "/* Colorize estimator box */\n",
       "#sk-container-id-3 div.sk-estimator input.sk-toggleable__control:checked~label.sk-toggleable__label {\n",
       "  /* unfitted */\n",
       "  background-color: var(--sklearn-color-unfitted-level-2);\n",
       "}\n",
       "\n",
       "#sk-container-id-3 div.sk-estimator.fitted input.sk-toggleable__control:checked~label.sk-toggleable__label {\n",
       "  /* fitted */\n",
       "  background-color: var(--sklearn-color-fitted-level-2);\n",
       "}\n",
       "\n",
       "#sk-container-id-3 div.sk-label label.sk-toggleable__label,\n",
       "#sk-container-id-3 div.sk-label label {\n",
       "  /* The background is the default theme color */\n",
       "  color: var(--sklearn-color-text-on-default-background);\n",
       "}\n",
       "\n",
       "/* On hover, darken the color of the background */\n",
       "#sk-container-id-3 div.sk-label:hover label.sk-toggleable__label {\n",
       "  color: var(--sklearn-color-text);\n",
       "  background-color: var(--sklearn-color-unfitted-level-2);\n",
       "}\n",
       "\n",
       "/* Label box, darken color on hover, fitted */\n",
       "#sk-container-id-3 div.sk-label.fitted:hover label.sk-toggleable__label.fitted {\n",
       "  color: var(--sklearn-color-text);\n",
       "  background-color: var(--sklearn-color-fitted-level-2);\n",
       "}\n",
       "\n",
       "/* Estimator label */\n",
       "\n",
       "#sk-container-id-3 div.sk-label label {\n",
       "  font-family: monospace;\n",
       "  font-weight: bold;\n",
       "  display: inline-block;\n",
       "  line-height: 1.2em;\n",
       "}\n",
       "\n",
       "#sk-container-id-3 div.sk-label-container {\n",
       "  text-align: center;\n",
       "}\n",
       "\n",
       "/* Estimator-specific */\n",
       "#sk-container-id-3 div.sk-estimator {\n",
       "  font-family: monospace;\n",
       "  border: 1px dotted var(--sklearn-color-border-box);\n",
       "  border-radius: 0.25em;\n",
       "  box-sizing: border-box;\n",
       "  margin-bottom: 0.5em;\n",
       "  /* unfitted */\n",
       "  background-color: var(--sklearn-color-unfitted-level-0);\n",
       "}\n",
       "\n",
       "#sk-container-id-3 div.sk-estimator.fitted {\n",
       "  /* fitted */\n",
       "  background-color: var(--sklearn-color-fitted-level-0);\n",
       "}\n",
       "\n",
       "/* on hover */\n",
       "#sk-container-id-3 div.sk-estimator:hover {\n",
       "  /* unfitted */\n",
       "  background-color: var(--sklearn-color-unfitted-level-2);\n",
       "}\n",
       "\n",
       "#sk-container-id-3 div.sk-estimator.fitted:hover {\n",
       "  /* fitted */\n",
       "  background-color: var(--sklearn-color-fitted-level-2);\n",
       "}\n",
       "\n",
       "/* Specification for estimator info (e.g. \"i\" and \"?\") */\n",
       "\n",
       "/* Common style for \"i\" and \"?\" */\n",
       "\n",
       ".sk-estimator-doc-link,\n",
       "a:link.sk-estimator-doc-link,\n",
       "a:visited.sk-estimator-doc-link {\n",
       "  float: right;\n",
       "  font-size: smaller;\n",
       "  line-height: 1em;\n",
       "  font-family: monospace;\n",
       "  background-color: var(--sklearn-color-background);\n",
       "  border-radius: 1em;\n",
       "  height: 1em;\n",
       "  width: 1em;\n",
       "  text-decoration: none !important;\n",
       "  margin-left: 0.5em;\n",
       "  text-align: center;\n",
       "  /* unfitted */\n",
       "  border: var(--sklearn-color-unfitted-level-1) 1pt solid;\n",
       "  color: var(--sklearn-color-unfitted-level-1);\n",
       "}\n",
       "\n",
       ".sk-estimator-doc-link.fitted,\n",
       "a:link.sk-estimator-doc-link.fitted,\n",
       "a:visited.sk-estimator-doc-link.fitted {\n",
       "  /* fitted */\n",
       "  border: var(--sklearn-color-fitted-level-1) 1pt solid;\n",
       "  color: var(--sklearn-color-fitted-level-1);\n",
       "}\n",
       "\n",
       "/* On hover */\n",
       "div.sk-estimator:hover .sk-estimator-doc-link:hover,\n",
       ".sk-estimator-doc-link:hover,\n",
       "div.sk-label-container:hover .sk-estimator-doc-link:hover,\n",
       ".sk-estimator-doc-link:hover {\n",
       "  /* unfitted */\n",
       "  background-color: var(--sklearn-color-unfitted-level-3);\n",
       "  color: var(--sklearn-color-background);\n",
       "  text-decoration: none;\n",
       "}\n",
       "\n",
       "div.sk-estimator.fitted:hover .sk-estimator-doc-link.fitted:hover,\n",
       ".sk-estimator-doc-link.fitted:hover,\n",
       "div.sk-label-container:hover .sk-estimator-doc-link.fitted:hover,\n",
       ".sk-estimator-doc-link.fitted:hover {\n",
       "  /* fitted */\n",
       "  background-color: var(--sklearn-color-fitted-level-3);\n",
       "  color: var(--sklearn-color-background);\n",
       "  text-decoration: none;\n",
       "}\n",
       "\n",
       "/* Span, style for the box shown on hovering the info icon */\n",
       ".sk-estimator-doc-link span {\n",
       "  display: none;\n",
       "  z-index: 9999;\n",
       "  position: relative;\n",
       "  font-weight: normal;\n",
       "  right: .2ex;\n",
       "  padding: .5ex;\n",
       "  margin: .5ex;\n",
       "  width: min-content;\n",
       "  min-width: 20ex;\n",
       "  max-width: 50ex;\n",
       "  color: var(--sklearn-color-text);\n",
       "  box-shadow: 2pt 2pt 4pt #999;\n",
       "  /* unfitted */\n",
       "  background: var(--sklearn-color-unfitted-level-0);\n",
       "  border: .5pt solid var(--sklearn-color-unfitted-level-3);\n",
       "}\n",
       "\n",
       ".sk-estimator-doc-link.fitted span {\n",
       "  /* fitted */\n",
       "  background: var(--sklearn-color-fitted-level-0);\n",
       "  border: var(--sklearn-color-fitted-level-3);\n",
       "}\n",
       "\n",
       ".sk-estimator-doc-link:hover span {\n",
       "  display: block;\n",
       "}\n",
       "\n",
       "/* \"?\"-specific style due to the `<a>` HTML tag */\n",
       "\n",
       "#sk-container-id-3 a.estimator_doc_link {\n",
       "  float: right;\n",
       "  font-size: 1rem;\n",
       "  line-height: 1em;\n",
       "  font-family: monospace;\n",
       "  background-color: var(--sklearn-color-background);\n",
       "  border-radius: 1rem;\n",
       "  height: 1rem;\n",
       "  width: 1rem;\n",
       "  text-decoration: none;\n",
       "  /* unfitted */\n",
       "  color: var(--sklearn-color-unfitted-level-1);\n",
       "  border: var(--sklearn-color-unfitted-level-1) 1pt solid;\n",
       "}\n",
       "\n",
       "#sk-container-id-3 a.estimator_doc_link.fitted {\n",
       "  /* fitted */\n",
       "  border: var(--sklearn-color-fitted-level-1) 1pt solid;\n",
       "  color: var(--sklearn-color-fitted-level-1);\n",
       "}\n",
       "\n",
       "/* On hover */\n",
       "#sk-container-id-3 a.estimator_doc_link:hover {\n",
       "  /* unfitted */\n",
       "  background-color: var(--sklearn-color-unfitted-level-3);\n",
       "  color: var(--sklearn-color-background);\n",
       "  text-decoration: none;\n",
       "}\n",
       "\n",
       "#sk-container-id-3 a.estimator_doc_link.fitted:hover {\n",
       "  /* fitted */\n",
       "  background-color: var(--sklearn-color-fitted-level-3);\n",
       "}\n",
       "</style><div id=\"sk-container-id-3\" class=\"sk-top-container\"><div class=\"sk-text-repr-fallback\"><pre>GridSearchCV(cv=5,\n",
       "             estimator=Pipeline(steps=[(&#x27;preprocessor&#x27;,\n",
       "                                        ColumnTransformer(transformers=[(&#x27;num&#x27;,\n",
       "                                                                         Pipeline(steps=[(&#x27;imputer&#x27;,\n",
       "                                                                                          SimpleImputer()),\n",
       "                                                                                         (&#x27;scaler&#x27;,\n",
       "                                                                                          StandardScaler())]),\n",
       "                                                                         [&#x27;Hydroxyurea&#x27;,\n",
       "                                                                          &#x27;ICS&#x27;,\n",
       "                                                                          &#x27;LABA&#x27;,\n",
       "                                                                          &#x27;Age&#x27;,\n",
       "                                                                          &#x27;Height&#x27;,\n",
       "                                                                          &#x27;Weight&#x27;,\n",
       "                                                                          &#x27;BMI&#x27;,\n",
       "                                                                          &#x27;R5Hz_PP&#x27;,\n",
       "                                                                          &#x27;R20Hz_PP&#x27;,\n",
       "                                                                          &#x27;X5Hz_PP&#x27;,\n",
       "                                                                          &#x27;Fres_PP&#x27;]),\n",
       "                                                                        (&#x27;cat&#x27;,\n",
       "                                                                         Pipeline(steps=[(&#x27;onehot&#x27;,\n",
       "                                                                                          OneHotEncoder(handle_unknown=&#x27;ignore&#x27;))]),\n",
       "                                                                         [&#x27;Gender&#x27;])])),\n",
       "                                       (&#x27;classifier&#x27;,\n",
       "                                        RandomForestClassifier(random_state=42))]),\n",
       "             n_jobs=-1,\n",
       "             param_grid={&#x27;classifier__class_weight&#x27;: [&#x27;balanced&#x27;,\n",
       "                                                      &#x27;balanced_subsample&#x27;,\n",
       "                                                      None],\n",
       "                         &#x27;classifier__max_depth&#x27;: [3, 5, 10, None],\n",
       "                         &#x27;classifier__min_samples_leaf&#x27;: [1, 2, 5],\n",
       "                         &#x27;classifier__n_estimators&#x27;: [50, 100, 200]},\n",
       "             scoring=&#x27;accuracy&#x27;)</pre><b>In a Jupyter environment, please rerun this cell to show the HTML representation or trust the notebook. <br />On GitHub, the HTML representation is unable to render, please try loading this page with nbviewer.org.</b></div><div class=\"sk-container\" hidden><div class=\"sk-item sk-dashed-wrapped\"><div class=\"sk-label-container\"><div class=\"sk-label fitted sk-toggleable\"><input class=\"sk-toggleable__control sk-hidden--visually\" id=\"sk-estimator-id-18\" type=\"checkbox\" ><label for=\"sk-estimator-id-18\" class=\"sk-toggleable__label fitted sk-toggleable__label-arrow\"><div><div>GridSearchCV</div></div><div><a class=\"sk-estimator-doc-link fitted\" rel=\"noreferrer\" target=\"_blank\" href=\"https://scikit-learn.org/1.6/modules/generated/sklearn.model_selection.GridSearchCV.html\">?<span>Documentation for GridSearchCV</span></a><span class=\"sk-estimator-doc-link fitted\">i<span>Fitted</span></span></div></label><div class=\"sk-toggleable__content fitted\"><pre>GridSearchCV(cv=5,\n",
       "             estimator=Pipeline(steps=[(&#x27;preprocessor&#x27;,\n",
       "                                        ColumnTransformer(transformers=[(&#x27;num&#x27;,\n",
       "                                                                         Pipeline(steps=[(&#x27;imputer&#x27;,\n",
       "                                                                                          SimpleImputer()),\n",
       "                                                                                         (&#x27;scaler&#x27;,\n",
       "                                                                                          StandardScaler())]),\n",
       "                                                                         [&#x27;Hydroxyurea&#x27;,\n",
       "                                                                          &#x27;ICS&#x27;,\n",
       "                                                                          &#x27;LABA&#x27;,\n",
       "                                                                          &#x27;Age&#x27;,\n",
       "                                                                          &#x27;Height&#x27;,\n",
       "                                                                          &#x27;Weight&#x27;,\n",
       "                                                                          &#x27;BMI&#x27;,\n",
       "                                                                          &#x27;R5Hz_PP&#x27;,\n",
       "                                                                          &#x27;R20Hz_PP&#x27;,\n",
       "                                                                          &#x27;X5Hz_PP&#x27;,\n",
       "                                                                          &#x27;Fres_PP&#x27;]),\n",
       "                                                                        (&#x27;cat&#x27;,\n",
       "                                                                         Pipeline(steps=[(&#x27;onehot&#x27;,\n",
       "                                                                                          OneHotEncoder(handle_unknown=&#x27;ignore&#x27;))]),\n",
       "                                                                         [&#x27;Gender&#x27;])])),\n",
       "                                       (&#x27;classifier&#x27;,\n",
       "                                        RandomForestClassifier(random_state=42))]),\n",
       "             n_jobs=-1,\n",
       "             param_grid={&#x27;classifier__class_weight&#x27;: [&#x27;balanced&#x27;,\n",
       "                                                      &#x27;balanced_subsample&#x27;,\n",
       "                                                      None],\n",
       "                         &#x27;classifier__max_depth&#x27;: [3, 5, 10, None],\n",
       "                         &#x27;classifier__min_samples_leaf&#x27;: [1, 2, 5],\n",
       "                         &#x27;classifier__n_estimators&#x27;: [50, 100, 200]},\n",
       "             scoring=&#x27;accuracy&#x27;)</pre></div> </div></div><div class=\"sk-parallel\"><div class=\"sk-parallel-item\"><div class=\"sk-item\"><div class=\"sk-label-container\"><div class=\"sk-label fitted sk-toggleable\"><input class=\"sk-toggleable__control sk-hidden--visually\" id=\"sk-estimator-id-19\" type=\"checkbox\" ><label for=\"sk-estimator-id-19\" class=\"sk-toggleable__label fitted sk-toggleable__label-arrow\"><div><div>best_estimator_: Pipeline</div></div></label><div class=\"sk-toggleable__content fitted\"><pre>Pipeline(steps=[(&#x27;preprocessor&#x27;,\n",
       "                 ColumnTransformer(transformers=[(&#x27;num&#x27;,\n",
       "                                                  Pipeline(steps=[(&#x27;imputer&#x27;,\n",
       "                                                                   SimpleImputer()),\n",
       "                                                                  (&#x27;scaler&#x27;,\n",
       "                                                                   StandardScaler())]),\n",
       "                                                  [&#x27;Hydroxyurea&#x27;, &#x27;ICS&#x27;, &#x27;LABA&#x27;,\n",
       "                                                   &#x27;Age&#x27;, &#x27;Height&#x27;, &#x27;Weight&#x27;,\n",
       "                                                   &#x27;BMI&#x27;, &#x27;R5Hz_PP&#x27;, &#x27;R20Hz_PP&#x27;,\n",
       "                                                   &#x27;X5Hz_PP&#x27;, &#x27;Fres_PP&#x27;]),\n",
       "                                                 (&#x27;cat&#x27;,\n",
       "                                                  Pipeline(steps=[(&#x27;onehot&#x27;,\n",
       "                                                                   OneHotEncoder(handle_unknown=&#x27;ignore&#x27;))]),\n",
       "                                                  [&#x27;Gender&#x27;])])),\n",
       "                (&#x27;classifier&#x27;,\n",
       "                 RandomForestClassifier(class_weight=&#x27;balanced&#x27;, max_depth=5,\n",
       "                                        min_samples_leaf=2, n_estimators=50,\n",
       "                                        random_state=42))])</pre></div> </div></div><div class=\"sk-serial\"><div class=\"sk-item\"><div class=\"sk-serial\"><div class=\"sk-item sk-dashed-wrapped\"><div class=\"sk-label-container\"><div class=\"sk-label fitted sk-toggleable\"><input class=\"sk-toggleable__control sk-hidden--visually\" id=\"sk-estimator-id-20\" type=\"checkbox\" ><label for=\"sk-estimator-id-20\" class=\"sk-toggleable__label fitted sk-toggleable__label-arrow\"><div><div>preprocessor: ColumnTransformer</div></div><div><a class=\"sk-estimator-doc-link fitted\" rel=\"noreferrer\" target=\"_blank\" href=\"https://scikit-learn.org/1.6/modules/generated/sklearn.compose.ColumnTransformer.html\">?<span>Documentation for preprocessor: ColumnTransformer</span></a></div></label><div class=\"sk-toggleable__content fitted\"><pre>ColumnTransformer(transformers=[(&#x27;num&#x27;,\n",
       "                                 Pipeline(steps=[(&#x27;imputer&#x27;, SimpleImputer()),\n",
       "                                                 (&#x27;scaler&#x27;, StandardScaler())]),\n",
       "                                 [&#x27;Hydroxyurea&#x27;, &#x27;ICS&#x27;, &#x27;LABA&#x27;, &#x27;Age&#x27;, &#x27;Height&#x27;,\n",
       "                                  &#x27;Weight&#x27;, &#x27;BMI&#x27;, &#x27;R5Hz_PP&#x27;, &#x27;R20Hz_PP&#x27;,\n",
       "                                  &#x27;X5Hz_PP&#x27;, &#x27;Fres_PP&#x27;]),\n",
       "                                (&#x27;cat&#x27;,\n",
       "                                 Pipeline(steps=[(&#x27;onehot&#x27;,\n",
       "                                                  OneHotEncoder(handle_unknown=&#x27;ignore&#x27;))]),\n",
       "                                 [&#x27;Gender&#x27;])])</pre></div> </div></div><div class=\"sk-parallel\"><div class=\"sk-parallel-item\"><div class=\"sk-item\"><div class=\"sk-label-container\"><div class=\"sk-label fitted sk-toggleable\"><input class=\"sk-toggleable__control sk-hidden--visually\" id=\"sk-estimator-id-21\" type=\"checkbox\" ><label for=\"sk-estimator-id-21\" class=\"sk-toggleable__label fitted sk-toggleable__label-arrow\"><div><div>num</div></div></label><div class=\"sk-toggleable__content fitted\"><pre>[&#x27;Hydroxyurea&#x27;, &#x27;ICS&#x27;, &#x27;LABA&#x27;, &#x27;Age&#x27;, &#x27;Height&#x27;, &#x27;Weight&#x27;, &#x27;BMI&#x27;, &#x27;R5Hz_PP&#x27;, &#x27;R20Hz_PP&#x27;, &#x27;X5Hz_PP&#x27;, &#x27;Fres_PP&#x27;]</pre></div> </div></div><div class=\"sk-serial\"><div class=\"sk-item\"><div class=\"sk-serial\"><div class=\"sk-item\"><div class=\"sk-estimator fitted sk-toggleable\"><input class=\"sk-toggleable__control sk-hidden--visually\" id=\"sk-estimator-id-22\" type=\"checkbox\" ><label for=\"sk-estimator-id-22\" class=\"sk-toggleable__label fitted sk-toggleable__label-arrow\"><div><div>SimpleImputer</div></div><div><a class=\"sk-estimator-doc-link fitted\" rel=\"noreferrer\" target=\"_blank\" href=\"https://scikit-learn.org/1.6/modules/generated/sklearn.impute.SimpleImputer.html\">?<span>Documentation for SimpleImputer</span></a></div></label><div class=\"sk-toggleable__content fitted\"><pre>SimpleImputer()</pre></div> </div></div><div class=\"sk-item\"><div class=\"sk-estimator fitted sk-toggleable\"><input class=\"sk-toggleable__control sk-hidden--visually\" id=\"sk-estimator-id-23\" type=\"checkbox\" ><label for=\"sk-estimator-id-23\" class=\"sk-toggleable__label fitted sk-toggleable__label-arrow\"><div><div>StandardScaler</div></div><div><a class=\"sk-estimator-doc-link fitted\" rel=\"noreferrer\" target=\"_blank\" href=\"https://scikit-learn.org/1.6/modules/generated/sklearn.preprocessing.StandardScaler.html\">?<span>Documentation for StandardScaler</span></a></div></label><div class=\"sk-toggleable__content fitted\"><pre>StandardScaler()</pre></div> </div></div></div></div></div></div></div><div class=\"sk-parallel-item\"><div class=\"sk-item\"><div class=\"sk-label-container\"><div class=\"sk-label fitted sk-toggleable\"><input class=\"sk-toggleable__control sk-hidden--visually\" id=\"sk-estimator-id-24\" type=\"checkbox\" ><label for=\"sk-estimator-id-24\" class=\"sk-toggleable__label fitted sk-toggleable__label-arrow\"><div><div>cat</div></div></label><div class=\"sk-toggleable__content fitted\"><pre>[&#x27;Gender&#x27;]</pre></div> </div></div><div class=\"sk-serial\"><div class=\"sk-item\"><div class=\"sk-serial\"><div class=\"sk-item\"><div class=\"sk-estimator fitted sk-toggleable\"><input class=\"sk-toggleable__control sk-hidden--visually\" id=\"sk-estimator-id-25\" type=\"checkbox\" ><label for=\"sk-estimator-id-25\" class=\"sk-toggleable__label fitted sk-toggleable__label-arrow\"><div><div>OneHotEncoder</div></div><div><a class=\"sk-estimator-doc-link fitted\" rel=\"noreferrer\" target=\"_blank\" href=\"https://scikit-learn.org/1.6/modules/generated/sklearn.preprocessing.OneHotEncoder.html\">?<span>Documentation for OneHotEncoder</span></a></div></label><div class=\"sk-toggleable__content fitted\"><pre>OneHotEncoder(handle_unknown=&#x27;ignore&#x27;)</pre></div> </div></div></div></div></div></div></div></div></div><div class=\"sk-item\"><div class=\"sk-estimator fitted sk-toggleable\"><input class=\"sk-toggleable__control sk-hidden--visually\" id=\"sk-estimator-id-26\" type=\"checkbox\" ><label for=\"sk-estimator-id-26\" class=\"sk-toggleable__label fitted sk-toggleable__label-arrow\"><div><div>RandomForestClassifier</div></div><div><a class=\"sk-estimator-doc-link fitted\" rel=\"noreferrer\" target=\"_blank\" href=\"https://scikit-learn.org/1.6/modules/generated/sklearn.ensemble.RandomForestClassifier.html\">?<span>Documentation for RandomForestClassifier</span></a></div></label><div class=\"sk-toggleable__content fitted\"><pre>RandomForestClassifier(class_weight=&#x27;balanced&#x27;, max_depth=5, min_samples_leaf=2,\n",
       "                       n_estimators=50, random_state=42)</pre></div> </div></div></div></div></div></div></div></div></div></div></div>"
      ],
      "text/plain": [
       "GridSearchCV(cv=5,\n",
       "             estimator=Pipeline(steps=[('preprocessor',\n",
       "                                        ColumnTransformer(transformers=[('num',\n",
       "                                                                         Pipeline(steps=[('imputer',\n",
       "                                                                                          SimpleImputer()),\n",
       "                                                                                         ('scaler',\n",
       "                                                                                          StandardScaler())]),\n",
       "                                                                         ['Hydroxyurea',\n",
       "                                                                          'ICS',\n",
       "                                                                          'LABA',\n",
       "                                                                          'Age',\n",
       "                                                                          'Height',\n",
       "                                                                          'Weight',\n",
       "                                                                          'BMI',\n",
       "                                                                          'R5Hz_PP',\n",
       "                                                                          'R20Hz_PP',\n",
       "                                                                          'X5Hz_PP',\n",
       "                                                                          'Fres_PP']),\n",
       "                                                                        ('cat',\n",
       "                                                                         Pipeline(steps=[('onehot',\n",
       "                                                                                          OneHotEncoder(handle_unknown='ignore'))]),\n",
       "                                                                         ['Gender'])])),\n",
       "                                       ('classifier',\n",
       "                                        RandomForestClassifier(random_state=42))]),\n",
       "             n_jobs=-1,\n",
       "             param_grid={'classifier__class_weight': ['balanced',\n",
       "                                                      'balanced_subsample',\n",
       "                                                      None],\n",
       "                         'classifier__max_depth': [3, 5, 10, None],\n",
       "                         'classifier__min_samples_leaf': [1, 2, 5],\n",
       "                         'classifier__n_estimators': [50, 100, 200]},\n",
       "             scoring='accuracy')"
      ]
     },
     "execution_count": 94,
     "metadata": {},
     "output_type": "execute_result"
    }
   ],
   "source": [
    "param_grid = {\n",
    "    'classifier__max_depth': [3, 5, 10, None],\n",
    "    'classifier__min_samples_leaf': [1, 2, 5],\n",
    "    'classifier__n_estimators': [50, 100, 200],\n",
    "    'classifier__class_weight': ['balanced', 'balanced_subsample', None]\n",
    "}\n",
    "\n",
    "grid_search = GridSearchCV(model, param_grid, cv=5, scoring='accuracy', n_jobs=-1)\n",
    "grid_search.fit(X_train, y_train)"
   ]
  },
  {
   "cell_type": "code",
   "execution_count": 95,
   "id": "6c5a0bfc",
   "metadata": {},
   "outputs": [
    {
     "data": {
      "text/plain": [
       "{'classifier__class_weight': 'balanced',\n",
       " 'classifier__max_depth': 5,\n",
       " 'classifier__min_samples_leaf': 2,\n",
       " 'classifier__n_estimators': 50}"
      ]
     },
     "execution_count": 95,
     "metadata": {},
     "output_type": "execute_result"
    }
   ],
   "source": [
    "# Meilleurs paramètres et scores\n",
    "best_params = grid_search.best_params_\n",
    "best_params"
   ]
  },
  {
   "cell_type": "code",
   "execution_count": 96,
   "id": "ab2e2fdd",
   "metadata": {},
   "outputs": [],
   "source": [
    "# Nettoyer les clés des hyperparamètres\n",
    "cleaned_params = {key.split('__')[-1]: value for key, value in best_params.items()}\n",
    "\n",
    "# Créer le modèle final avec les hyperparamètres nettoyés\n",
    "model_ml = grid_search.best_estimator_"
   ]
  },
  {
   "cell_type": "code",
   "execution_count": 97,
   "id": "b178b9e6",
   "metadata": {},
   "outputs": [
    {
     "data": {
      "text/html": [
       "<style>#sk-container-id-4 {\n",
       "  /* Definition of color scheme common for light and dark mode */\n",
       "  --sklearn-color-text: #000;\n",
       "  --sklearn-color-text-muted: #666;\n",
       "  --sklearn-color-line: gray;\n",
       "  /* Definition of color scheme for unfitted estimators */\n",
       "  --sklearn-color-unfitted-level-0: #fff5e6;\n",
       "  --sklearn-color-unfitted-level-1: #f6e4d2;\n",
       "  --sklearn-color-unfitted-level-2: #ffe0b3;\n",
       "  --sklearn-color-unfitted-level-3: chocolate;\n",
       "  /* Definition of color scheme for fitted estimators */\n",
       "  --sklearn-color-fitted-level-0: #f0f8ff;\n",
       "  --sklearn-color-fitted-level-1: #d4ebff;\n",
       "  --sklearn-color-fitted-level-2: #b3dbfd;\n",
       "  --sklearn-color-fitted-level-3: cornflowerblue;\n",
       "\n",
       "  /* Specific color for light theme */\n",
       "  --sklearn-color-text-on-default-background: var(--sg-text-color, var(--theme-code-foreground, var(--jp-content-font-color1, black)));\n",
       "  --sklearn-color-background: var(--sg-background-color, var(--theme-background, var(--jp-layout-color0, white)));\n",
       "  --sklearn-color-border-box: var(--sg-text-color, var(--theme-code-foreground, var(--jp-content-font-color1, black)));\n",
       "  --sklearn-color-icon: #696969;\n",
       "\n",
       "  @media (prefers-color-scheme: dark) {\n",
       "    /* Redefinition of color scheme for dark theme */\n",
       "    --sklearn-color-text-on-default-background: var(--sg-text-color, var(--theme-code-foreground, var(--jp-content-font-color1, white)));\n",
       "    --sklearn-color-background: var(--sg-background-color, var(--theme-background, var(--jp-layout-color0, #111)));\n",
       "    --sklearn-color-border-box: var(--sg-text-color, var(--theme-code-foreground, var(--jp-content-font-color1, white)));\n",
       "    --sklearn-color-icon: #878787;\n",
       "  }\n",
       "}\n",
       "\n",
       "#sk-container-id-4 {\n",
       "  color: var(--sklearn-color-text);\n",
       "}\n",
       "\n",
       "#sk-container-id-4 pre {\n",
       "  padding: 0;\n",
       "}\n",
       "\n",
       "#sk-container-id-4 input.sk-hidden--visually {\n",
       "  border: 0;\n",
       "  clip: rect(1px 1px 1px 1px);\n",
       "  clip: rect(1px, 1px, 1px, 1px);\n",
       "  height: 1px;\n",
       "  margin: -1px;\n",
       "  overflow: hidden;\n",
       "  padding: 0;\n",
       "  position: absolute;\n",
       "  width: 1px;\n",
       "}\n",
       "\n",
       "#sk-container-id-4 div.sk-dashed-wrapped {\n",
       "  border: 1px dashed var(--sklearn-color-line);\n",
       "  margin: 0 0.4em 0.5em 0.4em;\n",
       "  box-sizing: border-box;\n",
       "  padding-bottom: 0.4em;\n",
       "  background-color: var(--sklearn-color-background);\n",
       "}\n",
       "\n",
       "#sk-container-id-4 div.sk-container {\n",
       "  /* jupyter's `normalize.less` sets `[hidden] { display: none; }`\n",
       "     but bootstrap.min.css set `[hidden] { display: none !important; }`\n",
       "     so we also need the `!important` here to be able to override the\n",
       "     default hidden behavior on the sphinx rendered scikit-learn.org.\n",
       "     See: https://github.com/scikit-learn/scikit-learn/issues/21755 */\n",
       "  display: inline-block !important;\n",
       "  position: relative;\n",
       "}\n",
       "\n",
       "#sk-container-id-4 div.sk-text-repr-fallback {\n",
       "  display: none;\n",
       "}\n",
       "\n",
       "div.sk-parallel-item,\n",
       "div.sk-serial,\n",
       "div.sk-item {\n",
       "  /* draw centered vertical line to link estimators */\n",
       "  background-image: linear-gradient(var(--sklearn-color-text-on-default-background), var(--sklearn-color-text-on-default-background));\n",
       "  background-size: 2px 100%;\n",
       "  background-repeat: no-repeat;\n",
       "  background-position: center center;\n",
       "}\n",
       "\n",
       "/* Parallel-specific style estimator block */\n",
       "\n",
       "#sk-container-id-4 div.sk-parallel-item::after {\n",
       "  content: \"\";\n",
       "  width: 100%;\n",
       "  border-bottom: 2px solid var(--sklearn-color-text-on-default-background);\n",
       "  flex-grow: 1;\n",
       "}\n",
       "\n",
       "#sk-container-id-4 div.sk-parallel {\n",
       "  display: flex;\n",
       "  align-items: stretch;\n",
       "  justify-content: center;\n",
       "  background-color: var(--sklearn-color-background);\n",
       "  position: relative;\n",
       "}\n",
       "\n",
       "#sk-container-id-4 div.sk-parallel-item {\n",
       "  display: flex;\n",
       "  flex-direction: column;\n",
       "}\n",
       "\n",
       "#sk-container-id-4 div.sk-parallel-item:first-child::after {\n",
       "  align-self: flex-end;\n",
       "  width: 50%;\n",
       "}\n",
       "\n",
       "#sk-container-id-4 div.sk-parallel-item:last-child::after {\n",
       "  align-self: flex-start;\n",
       "  width: 50%;\n",
       "}\n",
       "\n",
       "#sk-container-id-4 div.sk-parallel-item:only-child::after {\n",
       "  width: 0;\n",
       "}\n",
       "\n",
       "/* Serial-specific style estimator block */\n",
       "\n",
       "#sk-container-id-4 div.sk-serial {\n",
       "  display: flex;\n",
       "  flex-direction: column;\n",
       "  align-items: center;\n",
       "  background-color: var(--sklearn-color-background);\n",
       "  padding-right: 1em;\n",
       "  padding-left: 1em;\n",
       "}\n",
       "\n",
       "\n",
       "/* Toggleable style: style used for estimator/Pipeline/ColumnTransformer box that is\n",
       "clickable and can be expanded/collapsed.\n",
       "- Pipeline and ColumnTransformer use this feature and define the default style\n",
       "- Estimators will overwrite some part of the style using the `sk-estimator` class\n",
       "*/\n",
       "\n",
       "/* Pipeline and ColumnTransformer style (default) */\n",
       "\n",
       "#sk-container-id-4 div.sk-toggleable {\n",
       "  /* Default theme specific background. It is overwritten whether we have a\n",
       "  specific estimator or a Pipeline/ColumnTransformer */\n",
       "  background-color: var(--sklearn-color-background);\n",
       "}\n",
       "\n",
       "/* Toggleable label */\n",
       "#sk-container-id-4 label.sk-toggleable__label {\n",
       "  cursor: pointer;\n",
       "  display: flex;\n",
       "  width: 100%;\n",
       "  margin-bottom: 0;\n",
       "  padding: 0.5em;\n",
       "  box-sizing: border-box;\n",
       "  text-align: center;\n",
       "  align-items: start;\n",
       "  justify-content: space-between;\n",
       "  gap: 0.5em;\n",
       "}\n",
       "\n",
       "#sk-container-id-4 label.sk-toggleable__label .caption {\n",
       "  font-size: 0.6rem;\n",
       "  font-weight: lighter;\n",
       "  color: var(--sklearn-color-text-muted);\n",
       "}\n",
       "\n",
       "#sk-container-id-4 label.sk-toggleable__label-arrow:before {\n",
       "  /* Arrow on the left of the label */\n",
       "  content: \"▸\";\n",
       "  float: left;\n",
       "  margin-right: 0.25em;\n",
       "  color: var(--sklearn-color-icon);\n",
       "}\n",
       "\n",
       "#sk-container-id-4 label.sk-toggleable__label-arrow:hover:before {\n",
       "  color: var(--sklearn-color-text);\n",
       "}\n",
       "\n",
       "/* Toggleable content - dropdown */\n",
       "\n",
       "#sk-container-id-4 div.sk-toggleable__content {\n",
       "  max-height: 0;\n",
       "  max-width: 0;\n",
       "  overflow: hidden;\n",
       "  text-align: left;\n",
       "  /* unfitted */\n",
       "  background-color: var(--sklearn-color-unfitted-level-0);\n",
       "}\n",
       "\n",
       "#sk-container-id-4 div.sk-toggleable__content.fitted {\n",
       "  /* fitted */\n",
       "  background-color: var(--sklearn-color-fitted-level-0);\n",
       "}\n",
       "\n",
       "#sk-container-id-4 div.sk-toggleable__content pre {\n",
       "  margin: 0.2em;\n",
       "  border-radius: 0.25em;\n",
       "  color: var(--sklearn-color-text);\n",
       "  /* unfitted */\n",
       "  background-color: var(--sklearn-color-unfitted-level-0);\n",
       "}\n",
       "\n",
       "#sk-container-id-4 div.sk-toggleable__content.fitted pre {\n",
       "  /* unfitted */\n",
       "  background-color: var(--sklearn-color-fitted-level-0);\n",
       "}\n",
       "\n",
       "#sk-container-id-4 input.sk-toggleable__control:checked~div.sk-toggleable__content {\n",
       "  /* Expand drop-down */\n",
       "  max-height: 200px;\n",
       "  max-width: 100%;\n",
       "  overflow: auto;\n",
       "}\n",
       "\n",
       "#sk-container-id-4 input.sk-toggleable__control:checked~label.sk-toggleable__label-arrow:before {\n",
       "  content: \"▾\";\n",
       "}\n",
       "\n",
       "/* Pipeline/ColumnTransformer-specific style */\n",
       "\n",
       "#sk-container-id-4 div.sk-label input.sk-toggleable__control:checked~label.sk-toggleable__label {\n",
       "  color: var(--sklearn-color-text);\n",
       "  background-color: var(--sklearn-color-unfitted-level-2);\n",
       "}\n",
       "\n",
       "#sk-container-id-4 div.sk-label.fitted input.sk-toggleable__control:checked~label.sk-toggleable__label {\n",
       "  background-color: var(--sklearn-color-fitted-level-2);\n",
       "}\n",
       "\n",
       "/* Estimator-specific style */\n",
       "\n",
       "/* Colorize estimator box */\n",
       "#sk-container-id-4 div.sk-estimator input.sk-toggleable__control:checked~label.sk-toggleable__label {\n",
       "  /* unfitted */\n",
       "  background-color: var(--sklearn-color-unfitted-level-2);\n",
       "}\n",
       "\n",
       "#sk-container-id-4 div.sk-estimator.fitted input.sk-toggleable__control:checked~label.sk-toggleable__label {\n",
       "  /* fitted */\n",
       "  background-color: var(--sklearn-color-fitted-level-2);\n",
       "}\n",
       "\n",
       "#sk-container-id-4 div.sk-label label.sk-toggleable__label,\n",
       "#sk-container-id-4 div.sk-label label {\n",
       "  /* The background is the default theme color */\n",
       "  color: var(--sklearn-color-text-on-default-background);\n",
       "}\n",
       "\n",
       "/* On hover, darken the color of the background */\n",
       "#sk-container-id-4 div.sk-label:hover label.sk-toggleable__label {\n",
       "  color: var(--sklearn-color-text);\n",
       "  background-color: var(--sklearn-color-unfitted-level-2);\n",
       "}\n",
       "\n",
       "/* Label box, darken color on hover, fitted */\n",
       "#sk-container-id-4 div.sk-label.fitted:hover label.sk-toggleable__label.fitted {\n",
       "  color: var(--sklearn-color-text);\n",
       "  background-color: var(--sklearn-color-fitted-level-2);\n",
       "}\n",
       "\n",
       "/* Estimator label */\n",
       "\n",
       "#sk-container-id-4 div.sk-label label {\n",
       "  font-family: monospace;\n",
       "  font-weight: bold;\n",
       "  display: inline-block;\n",
       "  line-height: 1.2em;\n",
       "}\n",
       "\n",
       "#sk-container-id-4 div.sk-label-container {\n",
       "  text-align: center;\n",
       "}\n",
       "\n",
       "/* Estimator-specific */\n",
       "#sk-container-id-4 div.sk-estimator {\n",
       "  font-family: monospace;\n",
       "  border: 1px dotted var(--sklearn-color-border-box);\n",
       "  border-radius: 0.25em;\n",
       "  box-sizing: border-box;\n",
       "  margin-bottom: 0.5em;\n",
       "  /* unfitted */\n",
       "  background-color: var(--sklearn-color-unfitted-level-0);\n",
       "}\n",
       "\n",
       "#sk-container-id-4 div.sk-estimator.fitted {\n",
       "  /* fitted */\n",
       "  background-color: var(--sklearn-color-fitted-level-0);\n",
       "}\n",
       "\n",
       "/* on hover */\n",
       "#sk-container-id-4 div.sk-estimator:hover {\n",
       "  /* unfitted */\n",
       "  background-color: var(--sklearn-color-unfitted-level-2);\n",
       "}\n",
       "\n",
       "#sk-container-id-4 div.sk-estimator.fitted:hover {\n",
       "  /* fitted */\n",
       "  background-color: var(--sklearn-color-fitted-level-2);\n",
       "}\n",
       "\n",
       "/* Specification for estimator info (e.g. \"i\" and \"?\") */\n",
       "\n",
       "/* Common style for \"i\" and \"?\" */\n",
       "\n",
       ".sk-estimator-doc-link,\n",
       "a:link.sk-estimator-doc-link,\n",
       "a:visited.sk-estimator-doc-link {\n",
       "  float: right;\n",
       "  font-size: smaller;\n",
       "  line-height: 1em;\n",
       "  font-family: monospace;\n",
       "  background-color: var(--sklearn-color-background);\n",
       "  border-radius: 1em;\n",
       "  height: 1em;\n",
       "  width: 1em;\n",
       "  text-decoration: none !important;\n",
       "  margin-left: 0.5em;\n",
       "  text-align: center;\n",
       "  /* unfitted */\n",
       "  border: var(--sklearn-color-unfitted-level-1) 1pt solid;\n",
       "  color: var(--sklearn-color-unfitted-level-1);\n",
       "}\n",
       "\n",
       ".sk-estimator-doc-link.fitted,\n",
       "a:link.sk-estimator-doc-link.fitted,\n",
       "a:visited.sk-estimator-doc-link.fitted {\n",
       "  /* fitted */\n",
       "  border: var(--sklearn-color-fitted-level-1) 1pt solid;\n",
       "  color: var(--sklearn-color-fitted-level-1);\n",
       "}\n",
       "\n",
       "/* On hover */\n",
       "div.sk-estimator:hover .sk-estimator-doc-link:hover,\n",
       ".sk-estimator-doc-link:hover,\n",
       "div.sk-label-container:hover .sk-estimator-doc-link:hover,\n",
       ".sk-estimator-doc-link:hover {\n",
       "  /* unfitted */\n",
       "  background-color: var(--sklearn-color-unfitted-level-3);\n",
       "  color: var(--sklearn-color-background);\n",
       "  text-decoration: none;\n",
       "}\n",
       "\n",
       "div.sk-estimator.fitted:hover .sk-estimator-doc-link.fitted:hover,\n",
       ".sk-estimator-doc-link.fitted:hover,\n",
       "div.sk-label-container:hover .sk-estimator-doc-link.fitted:hover,\n",
       ".sk-estimator-doc-link.fitted:hover {\n",
       "  /* fitted */\n",
       "  background-color: var(--sklearn-color-fitted-level-3);\n",
       "  color: var(--sklearn-color-background);\n",
       "  text-decoration: none;\n",
       "}\n",
       "\n",
       "/* Span, style for the box shown on hovering the info icon */\n",
       ".sk-estimator-doc-link span {\n",
       "  display: none;\n",
       "  z-index: 9999;\n",
       "  position: relative;\n",
       "  font-weight: normal;\n",
       "  right: .2ex;\n",
       "  padding: .5ex;\n",
       "  margin: .5ex;\n",
       "  width: min-content;\n",
       "  min-width: 20ex;\n",
       "  max-width: 50ex;\n",
       "  color: var(--sklearn-color-text);\n",
       "  box-shadow: 2pt 2pt 4pt #999;\n",
       "  /* unfitted */\n",
       "  background: var(--sklearn-color-unfitted-level-0);\n",
       "  border: .5pt solid var(--sklearn-color-unfitted-level-3);\n",
       "}\n",
       "\n",
       ".sk-estimator-doc-link.fitted span {\n",
       "  /* fitted */\n",
       "  background: var(--sklearn-color-fitted-level-0);\n",
       "  border: var(--sklearn-color-fitted-level-3);\n",
       "}\n",
       "\n",
       ".sk-estimator-doc-link:hover span {\n",
       "  display: block;\n",
       "}\n",
       "\n",
       "/* \"?\"-specific style due to the `<a>` HTML tag */\n",
       "\n",
       "#sk-container-id-4 a.estimator_doc_link {\n",
       "  float: right;\n",
       "  font-size: 1rem;\n",
       "  line-height: 1em;\n",
       "  font-family: monospace;\n",
       "  background-color: var(--sklearn-color-background);\n",
       "  border-radius: 1rem;\n",
       "  height: 1rem;\n",
       "  width: 1rem;\n",
       "  text-decoration: none;\n",
       "  /* unfitted */\n",
       "  color: var(--sklearn-color-unfitted-level-1);\n",
       "  border: var(--sklearn-color-unfitted-level-1) 1pt solid;\n",
       "}\n",
       "\n",
       "#sk-container-id-4 a.estimator_doc_link.fitted {\n",
       "  /* fitted */\n",
       "  border: var(--sklearn-color-fitted-level-1) 1pt solid;\n",
       "  color: var(--sklearn-color-fitted-level-1);\n",
       "}\n",
       "\n",
       "/* On hover */\n",
       "#sk-container-id-4 a.estimator_doc_link:hover {\n",
       "  /* unfitted */\n",
       "  background-color: var(--sklearn-color-unfitted-level-3);\n",
       "  color: var(--sklearn-color-background);\n",
       "  text-decoration: none;\n",
       "}\n",
       "\n",
       "#sk-container-id-4 a.estimator_doc_link.fitted:hover {\n",
       "  /* fitted */\n",
       "  background-color: var(--sklearn-color-fitted-level-3);\n",
       "}\n",
       "</style><div id=\"sk-container-id-4\" class=\"sk-top-container\"><div class=\"sk-text-repr-fallback\"><pre>Pipeline(steps=[(&#x27;preprocessor&#x27;,\n",
       "                 ColumnTransformer(transformers=[(&#x27;num&#x27;,\n",
       "                                                  Pipeline(steps=[(&#x27;imputer&#x27;,\n",
       "                                                                   SimpleImputer()),\n",
       "                                                                  (&#x27;scaler&#x27;,\n",
       "                                                                   StandardScaler())]),\n",
       "                                                  [&#x27;Hydroxyurea&#x27;, &#x27;ICS&#x27;, &#x27;LABA&#x27;,\n",
       "                                                   &#x27;Age&#x27;, &#x27;Height&#x27;, &#x27;Weight&#x27;,\n",
       "                                                   &#x27;BMI&#x27;, &#x27;R5Hz_PP&#x27;, &#x27;R20Hz_PP&#x27;,\n",
       "                                                   &#x27;X5Hz_PP&#x27;, &#x27;Fres_PP&#x27;]),\n",
       "                                                 (&#x27;cat&#x27;,\n",
       "                                                  Pipeline(steps=[(&#x27;onehot&#x27;,\n",
       "                                                                   OneHotEncoder(handle_unknown=&#x27;ignore&#x27;))]),\n",
       "                                                  [&#x27;Gender&#x27;])])),\n",
       "                (&#x27;classifier&#x27;,\n",
       "                 RandomForestClassifier(class_weight=&#x27;balanced&#x27;, max_depth=5,\n",
       "                                        min_samples_leaf=2, n_estimators=50,\n",
       "                                        random_state=42))])</pre><b>In a Jupyter environment, please rerun this cell to show the HTML representation or trust the notebook. <br />On GitHub, the HTML representation is unable to render, please try loading this page with nbviewer.org.</b></div><div class=\"sk-container\" hidden><div class=\"sk-item sk-dashed-wrapped\"><div class=\"sk-label-container\"><div class=\"sk-label fitted sk-toggleable\"><input class=\"sk-toggleable__control sk-hidden--visually\" id=\"sk-estimator-id-27\" type=\"checkbox\" ><label for=\"sk-estimator-id-27\" class=\"sk-toggleable__label fitted sk-toggleable__label-arrow\"><div><div>Pipeline</div></div><div><a class=\"sk-estimator-doc-link fitted\" rel=\"noreferrer\" target=\"_blank\" href=\"https://scikit-learn.org/1.6/modules/generated/sklearn.pipeline.Pipeline.html\">?<span>Documentation for Pipeline</span></a><span class=\"sk-estimator-doc-link fitted\">i<span>Fitted</span></span></div></label><div class=\"sk-toggleable__content fitted\"><pre>Pipeline(steps=[(&#x27;preprocessor&#x27;,\n",
       "                 ColumnTransformer(transformers=[(&#x27;num&#x27;,\n",
       "                                                  Pipeline(steps=[(&#x27;imputer&#x27;,\n",
       "                                                                   SimpleImputer()),\n",
       "                                                                  (&#x27;scaler&#x27;,\n",
       "                                                                   StandardScaler())]),\n",
       "                                                  [&#x27;Hydroxyurea&#x27;, &#x27;ICS&#x27;, &#x27;LABA&#x27;,\n",
       "                                                   &#x27;Age&#x27;, &#x27;Height&#x27;, &#x27;Weight&#x27;,\n",
       "                                                   &#x27;BMI&#x27;, &#x27;R5Hz_PP&#x27;, &#x27;R20Hz_PP&#x27;,\n",
       "                                                   &#x27;X5Hz_PP&#x27;, &#x27;Fres_PP&#x27;]),\n",
       "                                                 (&#x27;cat&#x27;,\n",
       "                                                  Pipeline(steps=[(&#x27;onehot&#x27;,\n",
       "                                                                   OneHotEncoder(handle_unknown=&#x27;ignore&#x27;))]),\n",
       "                                                  [&#x27;Gender&#x27;])])),\n",
       "                (&#x27;classifier&#x27;,\n",
       "                 RandomForestClassifier(class_weight=&#x27;balanced&#x27;, max_depth=5,\n",
       "                                        min_samples_leaf=2, n_estimators=50,\n",
       "                                        random_state=42))])</pre></div> </div></div><div class=\"sk-serial\"><div class=\"sk-item sk-dashed-wrapped\"><div class=\"sk-label-container\"><div class=\"sk-label fitted sk-toggleable\"><input class=\"sk-toggleable__control sk-hidden--visually\" id=\"sk-estimator-id-28\" type=\"checkbox\" ><label for=\"sk-estimator-id-28\" class=\"sk-toggleable__label fitted sk-toggleable__label-arrow\"><div><div>preprocessor: ColumnTransformer</div></div><div><a class=\"sk-estimator-doc-link fitted\" rel=\"noreferrer\" target=\"_blank\" href=\"https://scikit-learn.org/1.6/modules/generated/sklearn.compose.ColumnTransformer.html\">?<span>Documentation for preprocessor: ColumnTransformer</span></a></div></label><div class=\"sk-toggleable__content fitted\"><pre>ColumnTransformer(transformers=[(&#x27;num&#x27;,\n",
       "                                 Pipeline(steps=[(&#x27;imputer&#x27;, SimpleImputer()),\n",
       "                                                 (&#x27;scaler&#x27;, StandardScaler())]),\n",
       "                                 [&#x27;Hydroxyurea&#x27;, &#x27;ICS&#x27;, &#x27;LABA&#x27;, &#x27;Age&#x27;, &#x27;Height&#x27;,\n",
       "                                  &#x27;Weight&#x27;, &#x27;BMI&#x27;, &#x27;R5Hz_PP&#x27;, &#x27;R20Hz_PP&#x27;,\n",
       "                                  &#x27;X5Hz_PP&#x27;, &#x27;Fres_PP&#x27;]),\n",
       "                                (&#x27;cat&#x27;,\n",
       "                                 Pipeline(steps=[(&#x27;onehot&#x27;,\n",
       "                                                  OneHotEncoder(handle_unknown=&#x27;ignore&#x27;))]),\n",
       "                                 [&#x27;Gender&#x27;])])</pre></div> </div></div><div class=\"sk-parallel\"><div class=\"sk-parallel-item\"><div class=\"sk-item\"><div class=\"sk-label-container\"><div class=\"sk-label fitted sk-toggleable\"><input class=\"sk-toggleable__control sk-hidden--visually\" id=\"sk-estimator-id-29\" type=\"checkbox\" ><label for=\"sk-estimator-id-29\" class=\"sk-toggleable__label fitted sk-toggleable__label-arrow\"><div><div>num</div></div></label><div class=\"sk-toggleable__content fitted\"><pre>[&#x27;Hydroxyurea&#x27;, &#x27;ICS&#x27;, &#x27;LABA&#x27;, &#x27;Age&#x27;, &#x27;Height&#x27;, &#x27;Weight&#x27;, &#x27;BMI&#x27;, &#x27;R5Hz_PP&#x27;, &#x27;R20Hz_PP&#x27;, &#x27;X5Hz_PP&#x27;, &#x27;Fres_PP&#x27;]</pre></div> </div></div><div class=\"sk-serial\"><div class=\"sk-item\"><div class=\"sk-serial\"><div class=\"sk-item\"><div class=\"sk-estimator fitted sk-toggleable\"><input class=\"sk-toggleable__control sk-hidden--visually\" id=\"sk-estimator-id-30\" type=\"checkbox\" ><label for=\"sk-estimator-id-30\" class=\"sk-toggleable__label fitted sk-toggleable__label-arrow\"><div><div>SimpleImputer</div></div><div><a class=\"sk-estimator-doc-link fitted\" rel=\"noreferrer\" target=\"_blank\" href=\"https://scikit-learn.org/1.6/modules/generated/sklearn.impute.SimpleImputer.html\">?<span>Documentation for SimpleImputer</span></a></div></label><div class=\"sk-toggleable__content fitted\"><pre>SimpleImputer()</pre></div> </div></div><div class=\"sk-item\"><div class=\"sk-estimator fitted sk-toggleable\"><input class=\"sk-toggleable__control sk-hidden--visually\" id=\"sk-estimator-id-31\" type=\"checkbox\" ><label for=\"sk-estimator-id-31\" class=\"sk-toggleable__label fitted sk-toggleable__label-arrow\"><div><div>StandardScaler</div></div><div><a class=\"sk-estimator-doc-link fitted\" rel=\"noreferrer\" target=\"_blank\" href=\"https://scikit-learn.org/1.6/modules/generated/sklearn.preprocessing.StandardScaler.html\">?<span>Documentation for StandardScaler</span></a></div></label><div class=\"sk-toggleable__content fitted\"><pre>StandardScaler()</pre></div> </div></div></div></div></div></div></div><div class=\"sk-parallel-item\"><div class=\"sk-item\"><div class=\"sk-label-container\"><div class=\"sk-label fitted sk-toggleable\"><input class=\"sk-toggleable__control sk-hidden--visually\" id=\"sk-estimator-id-32\" type=\"checkbox\" ><label for=\"sk-estimator-id-32\" class=\"sk-toggleable__label fitted sk-toggleable__label-arrow\"><div><div>cat</div></div></label><div class=\"sk-toggleable__content fitted\"><pre>[&#x27;Gender&#x27;]</pre></div> </div></div><div class=\"sk-serial\"><div class=\"sk-item\"><div class=\"sk-serial\"><div class=\"sk-item\"><div class=\"sk-estimator fitted sk-toggleable\"><input class=\"sk-toggleable__control sk-hidden--visually\" id=\"sk-estimator-id-33\" type=\"checkbox\" ><label for=\"sk-estimator-id-33\" class=\"sk-toggleable__label fitted sk-toggleable__label-arrow\"><div><div>OneHotEncoder</div></div><div><a class=\"sk-estimator-doc-link fitted\" rel=\"noreferrer\" target=\"_blank\" href=\"https://scikit-learn.org/1.6/modules/generated/sklearn.preprocessing.OneHotEncoder.html\">?<span>Documentation for OneHotEncoder</span></a></div></label><div class=\"sk-toggleable__content fitted\"><pre>OneHotEncoder(handle_unknown=&#x27;ignore&#x27;)</pre></div> </div></div></div></div></div></div></div></div></div><div class=\"sk-item\"><div class=\"sk-estimator fitted sk-toggleable\"><input class=\"sk-toggleable__control sk-hidden--visually\" id=\"sk-estimator-id-34\" type=\"checkbox\" ><label for=\"sk-estimator-id-34\" class=\"sk-toggleable__label fitted sk-toggleable__label-arrow\"><div><div>RandomForestClassifier</div></div><div><a class=\"sk-estimator-doc-link fitted\" rel=\"noreferrer\" target=\"_blank\" href=\"https://scikit-learn.org/1.6/modules/generated/sklearn.ensemble.RandomForestClassifier.html\">?<span>Documentation for RandomForestClassifier</span></a></div></label><div class=\"sk-toggleable__content fitted\"><pre>RandomForestClassifier(class_weight=&#x27;balanced&#x27;, max_depth=5, min_samples_leaf=2,\n",
       "                       n_estimators=50, random_state=42)</pre></div> </div></div></div></div></div></div>"
      ],
      "text/plain": [
       "Pipeline(steps=[('preprocessor',\n",
       "                 ColumnTransformer(transformers=[('num',\n",
       "                                                  Pipeline(steps=[('imputer',\n",
       "                                                                   SimpleImputer()),\n",
       "                                                                  ('scaler',\n",
       "                                                                   StandardScaler())]),\n",
       "                                                  ['Hydroxyurea', 'ICS', 'LABA',\n",
       "                                                   'Age', 'Height', 'Weight',\n",
       "                                                   'BMI', 'R5Hz_PP', 'R20Hz_PP',\n",
       "                                                   'X5Hz_PP', 'Fres_PP']),\n",
       "                                                 ('cat',\n",
       "                                                  Pipeline(steps=[('onehot',\n",
       "                                                                   OneHotEncoder(handle_unknown='ignore'))]),\n",
       "                                                  ['Gender'])])),\n",
       "                ('classifier',\n",
       "                 RandomForestClassifier(class_weight='balanced', max_depth=5,\n",
       "                                        min_samples_leaf=2, n_estimators=50,\n",
       "                                        random_state=42))])"
      ]
     },
     "execution_count": 97,
     "metadata": {},
     "output_type": "execute_result"
    }
   ],
   "source": [
    "# Entraînement du modèle\n",
    "model_ml.fit(X_train, y_train)"
   ]
  },
  {
   "cell_type": "code",
   "execution_count": 98,
   "id": "060d3fc7",
   "metadata": {},
   "outputs": [
    {
     "data": {
      "text/plain": [
       "array([1, 0, 1, 1, 1, 1, 1, 1, 1, 1, 0, 1, 1, 1, 1, 1, 1, 1, 1, 1, 1, 0,\n",
       "       1, 0, 1, 1, 1, 1, 1, 1, 0, 0, 1, 1, 0, 1, 1, 1, 0, 1, 0, 1, 1, 1])"
      ]
     },
     "execution_count": 98,
     "metadata": {},
     "output_type": "execute_result"
    }
   ],
   "source": [
    "# Prédiction avec le modèle\n",
    "y_pred_dt = model_ml.predict(X_test)\n",
    "y_pred_dt"
   ]
  },
  {
   "cell_type": "code",
   "execution_count": 99,
   "id": "615fe5fa",
   "metadata": {},
   "outputs": [],
   "source": [
    "from sklearn.metrics import accuracy_score, roc_auc_score, recall_score, precision_score, f1_score, cohen_kappa_score, matthews_corrcoef\n",
    "import pickle"
   ]
  },
  {
   "cell_type": "code",
   "execution_count": 100,
   "id": "71b0ba2e",
   "metadata": {},
   "outputs": [
    {
     "data": {
      "text/plain": [
       "0.8863636363636364"
      ]
     },
     "execution_count": 100,
     "metadata": {},
     "output_type": "execute_result"
    }
   ],
   "source": [
    "# Évaluation du modèle\n",
    "accuracy_dt = accuracy_score(y_test, y_pred_dt)\n",
    "accuracy_dt"
   ]
  },
  {
   "cell_type": "code",
   "execution_count": 101,
   "id": "040b2ae1",
   "metadata": {},
   "outputs": [
    {
     "data": {
      "text/plain": [
       "{'Modèle': Pipeline(steps=[('preprocessor',\n",
       "                  ColumnTransformer(transformers=[('num',\n",
       "                                                   Pipeline(steps=[('imputer',\n",
       "                                                                    SimpleImputer()),\n",
       "                                                                   ('scaler',\n",
       "                                                                    StandardScaler())]),\n",
       "                                                   ['Hydroxyurea', 'ICS', 'LABA',\n",
       "                                                    'Age', 'Height', 'Weight',\n",
       "                                                    'BMI', 'R5Hz_PP', 'R20Hz_PP',\n",
       "                                                    'X5Hz_PP', 'Fres_PP']),\n",
       "                                                  ('cat',\n",
       "                                                   Pipeline(steps=[('onehot',\n",
       "                                                                    OneHotEncoder(handle_unknown='ignore'))]),\n",
       "                                                   ['Gender'])])),\n",
       "                 ('classifier',\n",
       "                  RandomForestClassifier(class_weight='balanced', max_depth=5,\n",
       "                                         min_samples_leaf=2, n_estimators=50,\n",
       "                                         random_state=42))]),\n",
       " 'Meilleurs paramètres': {'classifier__class_weight': 'balanced',\n",
       "  'classifier__max_depth': 5,\n",
       "  'classifier__min_samples_leaf': 2,\n",
       "  'classifier__n_estimators': 50},\n",
       " 'Accuracy': 0.8863636363636364,\n",
       " 'Recall': 0.8205882352941176,\n",
       " 'Precision': 0.846031746031746,\n",
       " 'F1-score': 0.8321891685736079,\n",
       " 'Kappa': 0.6646341463414633,\n",
       " 'MCC': 0.6661342411738336}"
      ]
     },
     "execution_count": 101,
     "metadata": {},
     "output_type": "execute_result"
    }
   ],
   "source": [
    "# Binarisation pour AUC multiclass\n",
    "# Binariser y_test pour le calcul de l'AUC multi-classe\n",
    "classes = model_ml.classes_  # ou np.unique(y_test)\n",
    "y_test_bin = label_binarize(y_test, classes=classes)\n",
    "\n",
    "# Prédiction\n",
    "y_pred = model_ml.predict(X_test)\n",
    "y_proba = model_ml.predict_proba(X_test)\n",
    "\n",
    "# Calcul des métriques\n",
    "metrics = {\n",
    "    \"Modèle\": model_ml,\n",
    "    \"Meilleurs paramètres\": grid_search.best_params_,\n",
    "    \"Accuracy\": accuracy_score(y_test, y_pred),\n",
    "    \"Recall\": recall_score(y_test, y_pred, average='macro'),\n",
    "    \"Precision\": precision_score(y_test, y_pred, average='macro'),\n",
    "    \"F1-score\": f1_score(y_test, y_pred, average='macro'),\n",
    "    \"Kappa\": cohen_kappa_score(y_test, y_pred),\n",
    "    \"MCC\": matthews_corrcoef(y_test, y_pred)\n",
    "}\n",
    "\n",
    "# Affichage des résultats\n",
    "metrics\n"
   ]
  },
  {
   "cell_type": "code",
   "execution_count": 102,
   "id": "580d54ca",
   "metadata": {},
   "outputs": [
    {
     "name": "stdout",
     "output_type": "stream",
     "text": [
      "              precision    recall  f1-score   support\n",
      "\n",
      "           0       0.78      0.70      0.74        10\n",
      "           1       0.91      0.94      0.93        34\n",
      "\n",
      "    accuracy                           0.89        44\n",
      "   macro avg       0.85      0.82      0.83        44\n",
      "weighted avg       0.88      0.89      0.88        44\n",
      "\n",
      "[[ 7  3]\n",
      " [ 2 32]]\n"
     ]
    }
   ],
   "source": [
    "from sklearn.metrics import classification_report, confusion_matrix\n",
    "\n",
    "y_pred = model_ml.predict(X_test)\n",
    "print(classification_report(y_test, y_pred))\n",
    "print(confusion_matrix(y_test, y_pred))"
   ]
  },
  {
   "cell_type": "code",
   "execution_count": 103,
   "id": "41f9cd5f",
   "metadata": {},
   "outputs": [
    {
     "data": {
      "image/png": "[encoded data removed]",
      "text/plain": [
       "<Figure size 800x600 with 1 Axes>"
      ]
     },
     "metadata": {},
     "output_type": "display_data"
    },
    {
     "data": {
      "image/png": "[encoded data removed]",
      "text/plain": [
       "<Figure size 800x600 with 1 Axes>"
      ]
     },
     "metadata": {},
     "output_type": "display_data"
    }
   ],
   "source": [
    "from sklearn.model_selection import learning_curve, validation_curve\n",
    "\n",
    "\n",
    "# COURBE D'APPRENTISSAGE\n",
    "train_sizes, train_scores, val_scores = learning_curve(\n",
    "    model_ml,\n",
    "    X_train,\n",
    "    y_train,\n",
    "    cv=5,\n",
    "    scoring='accuracy',\n",
    "    train_sizes=np.linspace(0.1, 1.0, 10),\n",
    "    n_jobs=-1\n",
    ")\n",
    "\n",
    "# Moyennes et écarts-types\n",
    "train_mean = np.mean(train_scores, axis=1)\n",
    "train_std = np.std(train_scores, axis=1)\n",
    "val_mean = np.mean(val_scores, axis=1)\n",
    "val_std = np.std(val_scores, axis=1)\n",
    "\n",
    "# Plot\n",
    "plt.figure(figsize=(8,6))\n",
    "plt.plot(train_sizes, train_mean, 'o-', color=\"r\", label=\"Accuracy entraînement\")\n",
    "plt.fill_between(train_sizes, train_mean - train_std, train_mean + train_std, alpha=0.1, color=\"r\")\n",
    "plt.plot(train_sizes, val_mean, 'o-', color=\"g\", label=\"Accuracy validation\")\n",
    "plt.fill_between(train_sizes, val_mean - val_std, val_mean + val_std, alpha=0.1, color=\"g\")\n",
    "plt.title(\"Courbe d'apprentissage RandomForestClassifier\")\n",
    "plt.xlabel(\"Nombre d'exemples d'entraînement\")\n",
    "plt.ylabel(\"Accuracy\")\n",
    "plt.legend(loc=\"best\")\n",
    "plt.grid()\n",
    "plt.show()\n",
    "\n",
    "\n",
    "# COURBE DE VALIDATION\n",
    "\n",
    "# Exemple avec l'hyperparamètre max_depth\n",
    "\n",
    "param_range = np.arange(1, 11)\n",
    "\n",
    "train_scores, val_scores = validation_curve(\n",
    "    model_ml,\n",
    "    X_train,\n",
    "    y_train,\n",
    "    param_name=\"classifier__max_depth\",\n",
    "    param_range=param_range,\n",
    "    cv=5,\n",
    "    scoring=\"accuracy\",\n",
    "    n_jobs=-1\n",
    ")\n",
    "\n",
    "# Moyennes et écarts-types\n",
    "train_mean = np.mean(train_scores, axis=1)\n",
    "train_std = np.std(train_scores, axis=1)\n",
    "val_mean = np.mean(val_scores, axis=1)\n",
    "val_std = np.std(val_scores, axis=1)\n",
    "\n",
    "# Plot\n",
    "plt.figure(figsize=(8,6))\n",
    "plt.plot(param_range, train_mean, 'o-', color=\"r\", label=\"Accuracy entraînement\")\n",
    "plt.fill_between(param_range, train_mean - train_std, train_mean + train_std, alpha=0.1, color=\"r\")\n",
    "plt.plot(param_range, val_mean, 'o-', color=\"g\", label=\"Accuracy validation\")\n",
    "plt.fill_between(param_range, val_mean - val_std, val_mean + val_std, alpha=0.1, color=\"g\")\n",
    "plt.title(\"Courbe de validation RandomForestClassifier (max_depth)\")\n",
    "plt.xlabel(\"max_depth\")\n",
    "plt.ylabel(\"Accuracy\")\n",
    "plt.legend(loc=\"best\")\n",
    "plt.grid()\n",
    "plt.show()"
   ]
  },
  {
   "cell_type": "code",
   "execution_count": 104,
   "id": "6ab6fd1a",
   "metadata": {},
   "outputs": [
    {
     "data": {
      "image/png": "[encoded data removed]",
      "text/plain": [
       "<Figure size 500x500 with 1 Axes>"
      ]
     },
     "metadata": {},
     "output_type": "display_data"
    }
   ],
   "source": [
    "from sklearn.model_selection import learning_curve\n",
    "import matplotlib.pyplot as plt\n",
    "import numpy as np\n",
    "\n",
    "\n",
    "# Apprentissage & validation\n",
    "train_sizes, train_scores, val_scores = learning_curve(\n",
    "    model_ml,\n",
    "    X_train,\n",
    "    y_train,\n",
    "    cv=5,\n",
    "    scoring='accuracy',\n",
    "    n_jobs=-1,\n",
    "    train_sizes=np.linspace(0.1, 1.0, 10),\n",
    "    shuffle=True,\n",
    "    random_state=42\n",
    ")\n",
    "\n",
    "# Moyenne et écart-type\n",
    "train_scores_mean = np.mean(train_scores, axis=1)\n",
    "train_scores_std = np.std(train_scores, axis=1)\n",
    "val_scores_mean = np.mean(val_scores, axis=1)\n",
    "val_scores_std = np.std(val_scores, axis=1)\n",
    "\n",
    "# Affichage\n",
    "plt.figure(figsize=(5, 5))\n",
    "plt.plot(train_sizes, train_scores_mean, 'o-', color='blue', label='Score d’entraînement')\n",
    "plt.plot(train_sizes, val_scores_mean, 'o-', color='orange', label='Score de validation')\n",
    "\n",
    "# Remplissage des zones d'écart-type\n",
    "plt.fill_between(train_sizes,\n",
    "                 train_scores_mean - train_scores_std,\n",
    "                 train_scores_mean + train_scores_std,\n",
    "                 alpha=0.2, color='blue')\n",
    "plt.fill_between(train_sizes,\n",
    "                 val_scores_mean - val_scores_std,\n",
    "                 val_scores_mean + val_scores_std,\n",
    "                 alpha=0.2, color='orange')\n",
    "\n",
    "plt.title(\"Courbe d'apprentissage du modèle\")\n",
    "plt.xlabel(\"Taille de l'ensemble d'entraînement\")\n",
    "plt.ylabel(\"Score (Accuracy)\")\n",
    "plt.legend(loc=\"best\")\n",
    "plt.grid(True)\n",
    "plt.tight_layout()\n",
    "plt.show()"
   ]
  },
  {
   "cell_type": "code",
   "execution_count": 105,
   "id": "c5fd3511",
   "metadata": {},
   "outputs": [
    {
     "name": "stdout",
     "output_type": "stream",
     "text": [
      "Scores CV : [0.77272727 0.84090909 0.95454545 0.79545455 0.81395349]\n",
      "Mean CV Accuracy : 0.8355179704016914\n",
      "Std CV Accuracy : 0.06357575446671446\n"
     ]
    }
   ],
   "source": [
    "# Validation croisée globale\n",
    "cv_scores = cross_val_score(model_ml, X, y, cv=5, scoring='accuracy')\n",
    "print(\"Scores CV :\", cv_scores)\n",
    "print(\"Mean CV Accuracy :\", cv_scores.mean())\n",
    "print(\"Std CV Accuracy :\", cv_scores.std())"
   ]
  },
  {
   "cell_type": "code",
   "execution_count": 106,
   "id": "9981e608",
   "metadata": {},
   "outputs": [],
   "source": [
    "# Sauvegarde du modèle avec pickle\n",
    "import pickle\n",
    "pickle.dump(model_ml, open('model_asthma.pkl', 'wb'))"
   ]
  }
 ],
 "metadata": {
  "kernelspec": {
   "display_name": "python",
   "language": "python",
   "name": "python3"
  },
  "language_info": {
   "codemirror_mode": {
    "name": "ipython",
    "version": 3
   },
   "file_extension": ".py",
   "mimetype": "text/x-python",
   "name": "python",
   "nbconvert_exporter": "python",
   "pygments_lexer": "ipython3",
   "version": "3.10.11"
  }
 },
 "nbformat": 4,
 "nbformat_minor": 5
}
